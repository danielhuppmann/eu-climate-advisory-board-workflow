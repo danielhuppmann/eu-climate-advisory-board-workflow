{
 "cells": [
  {
   "cell_type": "code",
   "execution_count": null,
   "id": "20e8e617",
   "metadata": {},
   "outputs": [],
   "source": [
    "from pathlib import Path\n",
    "import pandas as pd\n",
    "import openpyxl\n",
    "from copy import copy\n",
    "from openpyxl.styles import Font"
   ]
  },
  {
   "cell_type": "code",
   "execution_count": null,
   "id": "72b15321",
   "metadata": {},
   "outputs": [],
   "source": [
    "files = Path(\"v2.0/\")"
   ]
  },
  {
   "cell_type": "code",
   "execution_count": null,
   "id": "cd6d4d29",
   "metadata": {},
   "outputs": [],
   "source": [
    "for f in files.iterdir():\n",
    "    print(f)"
   ]
  },
  {
   "cell_type": "code",
   "execution_count": null,
   "id": "5dfc17bc",
   "metadata": {},
   "outputs": [],
   "source": [
    "readme = pd.ExcelFile(\"readme_v2.0.xlsx\")"
   ]
  },
  {
   "cell_type": "code",
   "execution_count": null,
   "id": "dc895849",
   "metadata": {},
   "outputs": [],
   "source": [
    "def copy_worksheet(source_ws, target_ws):\n",
    "    for (row, col), source_cell  in source_ws._cells.items():\n",
    "        target_cell = target_ws.cell(column=col, row=row)\n",
    "\n",
    "        target_cell._value = source_cell._value\n",
    "        target_cell.data_type = source_cell.data_type"
   ]
  },
  {
   "cell_type": "code",
   "execution_count": null,
   "id": "bc5de5a0",
   "metadata": {},
   "outputs": [],
   "source": [
    "cell = target_sheet.cell(column=1, row=1)\n",
    "cell"
   ]
  },
  {
   "cell_type": "code",
   "execution_count": null,
   "id": "5a159f5d",
   "metadata": {},
   "outputs": [],
   "source": [
    "titel = Font(\n",
    "    size=14,\n",
    "    bold=True,\n",
    ")\n",
    "\n",
    "section = Font(\n",
    "    bold=True,\n",
    ")"
   ]
  },
  {
   "cell_type": "code",
   "execution_count": null,
   "id": "b4faf4ea",
   "metadata": {},
   "outputs": [],
   "source": [
    "template_sheet = openpyxl.load_workbook(\"readme_v2.0.xlsx\")[\"README\"]"
   ]
  },
  {
   "cell_type": "code",
   "execution_count": null,
   "id": "9cb7639b",
   "metadata": {},
   "outputs": [],
   "source": [
    "template_sheet"
   ]
  },
  {
   "cell_type": "code",
   "execution_count": null,
   "id": "3784b28c",
   "metadata": {},
   "outputs": [],
   "source": [
    "target = openpyxl.load_workbook(f)"
   ]
  },
  {
   "cell_type": "code",
   "execution_count": null,
   "id": "a34c4965",
   "metadata": {},
   "outputs": [],
   "source": [
    "target_sheet = target.create_sheet(\"README\", 0)"
   ]
  },
  {
   "cell_type": "code",
   "execution_count": null,
   "id": "03af6526",
   "metadata": {},
   "outputs": [],
   "source": [
    "copy_worksheet(template_sheet, target_sheet)"
   ]
  },
  {
   "cell_type": "code",
   "execution_count": null,
   "id": "be59b065",
   "metadata": {},
   "outputs": [],
   "source": [
    "target_sheet.cell(column=1, row=1).font = title\n",
    "for row in [2, 4, 8, 16, 27, 32, 41]\n",
    "    target_sheet.cell(column=1, row=row).font = section"
   ]
  },
  {
   "cell_type": "code",
   "execution_count": null,
   "id": "7abd3f42",
   "metadata": {},
   "outputs": [],
   "source": [
    "target.save(f)"
   ]
  },
  {
   "cell_type": "code",
   "execution_count": null,
   "id": "a2751729",
   "metadata": {},
   "outputs": [],
   "source": [
    "openpyxl.worksheet.copier.WorksheetCopy(template, target.create_sheet(\"README\"))"
   ]
  },
  {
   "cell_type": "code",
   "execution_count": null,
   "id": "70f33611",
   "metadata": {},
   "outputs": [],
   "source": []
  }
 ],
 "metadata": {
  "kernelspec": {
   "display_name": "Python 3 (ipykernel)",
   "language": "python",
   "name": "python3"
  },
  "language_info": {
   "codemirror_mode": {
    "name": "ipython",
    "version": 3
   },
   "file_extension": ".py",
   "mimetype": "text/x-python",
   "name": "python",
   "nbconvert_exporter": "python",
   "pygments_lexer": "ipython3",
   "version": "3.10.0"
  }
 },
 "nbformat": 4,
 "nbformat_minor": 5
}
