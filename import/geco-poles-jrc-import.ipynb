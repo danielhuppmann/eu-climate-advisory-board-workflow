{
 "cells": [
  {
   "cell_type": "code",
   "execution_count": null,
   "id": "4daf6223",
   "metadata": {},
   "outputs": [],
   "source": [
    "import pyam\n",
    "import nomenclature\n",
    "import ixmp"
   ]
  },
  {
   "cell_type": "code",
   "execution_count": null,
   "id": "f8e7478b",
   "metadata": {},
   "outputs": [],
   "source": [
    "scenario = \"GECO_Ref_AR6\""
   ]
  },
  {
   "cell_type": "code",
   "execution_count": null,
   "id": "e85a66b5",
   "metadata": {},
   "outputs": [],
   "source": [
    "df = pyam.IamDataFrame(f\"results_{scenario}_20230206.xlsx\")"
   ]
  },
  {
   "cell_type": "code",
   "execution_count": null,
   "id": "1a2e4e2b",
   "metadata": {},
   "outputs": [],
   "source": [
    "df_eu27 = pyam.IamDataFrame(f\"results_{scenario}_20230202.xlsx\")"
   ]
  },
  {
   "cell_type": "code",
   "execution_count": null,
   "id": "81f3b2f0",
   "metadata": {},
   "outputs": [],
   "source": [
    "df_eu27 = df_eu27.filter(region=\"EU28 MAP\").rename(region={\"EU28 MAP\": \"EU27\"})"
   ]
  },
  {
   "cell_type": "code",
   "execution_count": null,
   "id": "6b925227",
   "metadata": {},
   "outputs": [],
   "source": [
    "df.append(df_eu27, inplace=True)"
   ]
  },
  {
   "cell_type": "code",
   "execution_count": null,
   "id": "4521a3fc",
   "metadata": {},
   "outputs": [],
   "source": [
    "df.rename(model={\"POLES ENGAGE\": \"POLES-JRC\"}, inplace=True)"
   ]
  },
  {
   "cell_type": "code",
   "execution_count": null,
   "id": "22e8c98c",
   "metadata": {},
   "outputs": [],
   "source": [
    "df.rename(scenario={\"CurPol\": \"Current Policies\"}, inplace=True)"
   ]
  },
  {
   "cell_type": "code",
   "execution_count": null,
   "id": "ac0fd322",
   "metadata": {},
   "outputs": [],
   "source": [
    "poles_rename_mapping = {\n",
    "    \"AFMI MAP\": \"POLES-JRC|Africa & Middle East\",\n",
    "    \"ARG MAP\": \"POLES-JRC|Argentina\",\n",
    "    \"ASIA MAP\": \"POLES-JRC|Asia (excl. Japan)\",\n",
    "    \"AUS MAP\": \"POLES-JRC|Australia\",\n",
    "    \"BRA MAP\": \"POLES-JRC|Brazil\",\n",
    "    \"CAN MAP\": \"POLES-JRC|Canada\",\n",
    "    \"CHN MAP\": \"POLES-JRC|China\",\n",
    "    \"IDN MAP\": \"POLES-JRC|Indonesia\",\n",
    "    \"IND MAP\": \"POLES-JRC|India\",\n",
    "    \"JPN MAP\": \"POLES-JRC|Japan\",\n",
    "    \"KOR MAP\": \"POLES-JRC|South Korea\",\n",
    "    \"LAM MAP\": \"POLES-JRC|Latin America\",\n",
    "    \"MEX MAP\": \"POLES-JRC|Mexico\",\n",
    "    \"REF MAP\": \"POLES-JRC|Former CIS\",\n",
    "    \"RUS MAP\": \"POLES-JRC|Russian Federation\",\n",
    "    \"SAU MAP\": \"POLES-JRC|Saudi Arabia\",\n",
    "    \"TUR MAP\": \"POLES-JRC|Turkey\",\n",
    "    \"USA MAP\": \"POLES-JRC|USA\",\n",
    "    \"ZAF MAP\": \"POLES-JRC|South Africa\",\n",
    "    \"WRD MAP\": \"World\",\n",
    "    \"EU28 MAP\": \"EU27 & UK\",\n",
    "    \"OECD90EU MAP\": \"OECD & EU (R5)\",\n",
    "    \"R10AFRICA MAP\": \"Africa (R10)\",\n",
    "    \"R10CHINAplus MAP\": \"China+ (R10)\",\n",
    "    \"R10EUROPE MAP\": \"Europe (R10)\",\n",
    "    \"R10INDIAplus MAP\": \"India+ (R10)\",\n",
    "    \"R10LATINAM MAP\": \"Latin America (R10)\",\n",
    "    \"R10MIDDLEEAST MAP\": \"Middle East (R10)\",\n",
    "    \"R10NORTHAM MAP\": \"North America (R10)\",\n",
    "    \"R10PACOECD MAP\": \"Pacific OECD (R10)\",\n",
    "    \"R10REFECON MAP\": \"Reforming Economies (R10)\",\n",
    "    \"R10RESTASIA MAP\": \"Rest of Asia (R10)\",\n",
    "    \"R10ROWO MAP\": \"Other (R10)\",\n",
    "}\n",
    "df.rename(region=poles_rename_mapping, inplace=True)"
   ]
  },
  {
   "cell_type": "code",
   "execution_count": null,
   "id": "06d8c70a",
   "metadata": {},
   "outputs": [],
   "source": [
    "df.filter(region=[\"THA MAP\", \"VNM MAP\"], keep=False, inplace=True)"
   ]
  },
  {
   "cell_type": "code",
   "execution_count": null,
   "id": "fa1c3853",
   "metadata": {},
   "outputs": [],
   "source": [
    "eu_climate_dsd = nomenclature.DataStructureDefinition(\"../definitions/\")"
   ]
  },
  {
   "cell_type": "code",
   "execution_count": null,
   "id": "29656611",
   "metadata": {},
   "outputs": [],
   "source": [
    "df_eu = df.filter(region=[\"EU27 & UK\", \"EU27\"])"
   ]
  },
  {
   "cell_type": "code",
   "execution_count": null,
   "id": "58b7082c",
   "metadata": {},
   "outputs": [],
   "source": [
    "df_eu.filter(variable=\"Primary Energy\").timeseries()"
   ]
  },
  {
   "cell_type": "code",
   "execution_count": null,
   "id": "57e8e160",
   "metadata": {},
   "outputs": [],
   "source": [
    "unit_rename_mapping = {\n",
    "    \"billion US$2010/yr OR local currency\": \"billion US$2010/yr\",\n",
    "    \"US$2010/kW OR local currency/kW\": \"US$2010/kW\",\n",
    "    \"US$2010/kW/yr OR local currency/kW/yr\": \"US$2010/kW/yr\",\n",
    "    \"billion US$2010/yr or local currency/yr\": \"billion US$2010/yr\",\n",
    "    \"billion US$2010/yr OR local currency/yr\": \"billion US$2010/yr\",\n",
    "    \"US$2010/GJ or local currency/GJ\": \"US$2010/GJ\",\n",
    "    \"US$2010/t CO2 or local currency/t CO2\": \"US$2010/t CO2\",\n",
    "    \"bn tkm/yr\": \"billion tkm/yr\",\n",
    "    \"bn pkm/yr\": \"billion pkm/yr\",\n",
    "}\n",
    "\n",
    "df.rename(unit=unit_rename_mapping, inplace=True)"
   ]
  },
  {
   "cell_type": "code",
   "execution_count": null,
   "id": "2e71a01d",
   "metadata": {},
   "outputs": [],
   "source": [
    "df.filter(variable=\"Price|Agriculture|Non-Energy Crops and Livestock|Index\", keep=False, inplace=True)"
   ]
  },
  {
   "cell_type": "code",
   "execution_count": null,
   "id": "0184d6e5",
   "metadata": {},
   "outputs": [],
   "source": [
    "df.filter(variable=eu_climate_dsd.variable, inplace=True)"
   ]
  },
  {
   "cell_type": "code",
   "execution_count": null,
   "id": "d58b35ab",
   "metadata": {},
   "outputs": [],
   "source": [
    "eu_climate_dsd.validate(df)"
   ]
  },
  {
   "cell_type": "code",
   "execution_count": null,
   "id": "dda6bba4",
   "metadata": {},
   "outputs": [],
   "source": [
    "df"
   ]
  },
  {
   "cell_type": "code",
   "execution_count": null,
   "id": "b37d0844",
   "metadata": {},
   "outputs": [],
   "source": [
    "eu_climate = ixmp.Platform(\"eu-climate-submission\")"
   ]
  },
  {
   "cell_type": "code",
   "execution_count": null,
   "id": "283ec95c",
   "metadata": {},
   "outputs": [],
   "source": [
    "for (_model, _scenario) in df.index:\n",
    "    _df = df.filter(model=_model, scenario=_scenario)\n",
    "\n",
    "    # initialize scenario and add timeseries data\n",
    "    scen = ixmp.Scenario(eu_climate, _model, f\"GECO-2023 {_scenario}\", version=\"new\")\n",
    "    scen.add_timeseries(_df.data)\n",
    "    scen.commit(\"Imported from GECO 2023\")\n",
    "    scen.set_as_default()\n",
    "\n",
    "    scen.set_meta({\"Source\": \"GECO 2023\"})"
   ]
  },
  {
   "cell_type": "code",
   "execution_count": null,
   "id": "4eb3ccfa",
   "metadata": {},
   "outputs": [],
   "source": []
  }
 ],
 "metadata": {
  "kernelspec": {
   "display_name": "Python 3 (ipykernel)",
   "language": "python",
   "name": "python3"
  },
  "language_info": {
   "codemirror_mode": {
    "name": "ipython",
    "version": 3
   },
   "file_extension": ".py",
   "mimetype": "text/x-python",
   "name": "python",
   "nbconvert_exporter": "python",
   "pygments_lexer": "ipython3",
   "version": "3.8.12"
  },
  "latex_envs": {
   "LaTeX_envs_menu_present": true,
   "autoclose": false,
   "autocomplete": true,
   "bibliofile": "biblio.bib",
   "cite_by": "apalike",
   "current_citInitial": 1,
   "eqLabelWithNumbers": true,
   "eqNumInitial": 1,
   "hotkeys": {
    "equation": "Ctrl-E",
    "itemize": "Ctrl-I"
   },
   "labels_anchors": false,
   "latex_user_defs": false,
   "report_style_numbering": false,
   "user_envs_cfg": false
  }
 },
 "nbformat": 4,
 "nbformat_minor": 5
}
