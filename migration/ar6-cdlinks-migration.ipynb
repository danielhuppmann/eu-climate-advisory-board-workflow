{
 "cells": [
  {
   "cell_type": "code",
   "execution_count": null,
   "id": "c3ec7e94",
   "metadata": {},
   "outputs": [],
   "source": [
    "import ixmp\n",
    "import yaml\n",
    "import pyam\n",
    "import nomenclature"
   ]
  },
  {
   "cell_type": "code",
   "execution_count": null,
   "id": "8e961c48",
   "metadata": {},
   "outputs": [],
   "source": [
    "ar6_public = ixmp.Platform(\"ar6\")\n",
    "ar6_submission = ixmp.Platform(\"ar6-submission\")"
   ]
  },
  {
   "cell_type": "code",
   "execution_count": null,
   "id": "b05f6e29",
   "metadata": {},
   "outputs": [],
   "source": [
    "ar6_public_scenario_list = ar6_public.scenario_list()\n",
    "ar6_submission_scenario_list = ar6_submission.scenario_list()"
   ]
  },
  {
   "cell_type": "code",
   "execution_count": null,
   "id": "588e096f",
   "metadata": {},
   "outputs": [],
   "source": [
    "with open(\"region_rename.yaml\") as f:\n",
    "    region_rename_mapping = yaml.safe_load(f)"
   ]
  },
  {
   "cell_type": "code",
   "execution_count": null,
   "id": "65d20532",
   "metadata": {},
   "outputs": [],
   "source": [
    "eu_climate_dsd = nomenclature.DataStructureDefinition(\"../definitions/\")"
   ]
  },
  {
   "cell_type": "code",
   "execution_count": null,
   "id": "131c42db",
   "metadata": {},
   "outputs": [],
   "source": [
    "eu_climate = ixmp.Platform(\"eu-climate-submission\")"
   ]
  },
  {
   "cell_type": "code",
   "execution_count": null,
   "id": "c275b15b",
   "metadata": {},
   "outputs": [],
   "source": [
    "cdlinks_scenarios = [\n",
    "    'CD-LINKS_NoPolicy',\n",
    "    'CD-LINKS_INDCi',\n",
    "    'CD-LINKS_INDC2030i_1600',\n",
    "    'CD-LINKS_INDC2030i_1000',\n",
    "    'CD-LINKS_INDC2030i_400',\n",
    "    'CD-LINKS_NDC2030i_1000',\n",
    "    'CD-LINKS_NPi',\n",
    "    'CD-LINKS_NPi2020_1600',\n",
    "    'CD-LINKS_NPi2020_1000',\n",
    "    'CD-LINKS_NPi2020_400',\n",
    " ]\n",
    "\n",
    "_scenarios = ar6_public_scenario_list[[s in cdlinks_scenarios for s in ar6_public_scenario_list.scenario]]"
   ]
  },
  {
   "cell_type": "code",
   "execution_count": null,
   "id": "cb7a99d8",
   "metadata": {},
   "outputs": [],
   "source": [
    "scenario_selection = list()\n",
    "for i, row in _scenarios.iterrows():\n",
    "    if row[\"model\"] in [\"AIM/CGE 2.1\", \"MESSAGEix-GLOBIOM 1.0\", \"IMAGE 3.0.1\", \"REMIND-MAgPIE 1.7-3.0\", \"WITCH-GLOBIOM 4.4\"]:\n",
    "        scenario_selection.append((row[\"model\"], row[\"scenario\"]))"
   ]
  },
  {
   "cell_type": "code",
   "execution_count": null,
   "id": "1969bf35",
   "metadata": {},
   "outputs": [],
   "source": [
    "scenario_selection"
   ]
  },
  {
   "cell_type": "code",
   "execution_count": null,
   "id": "4fad083a",
   "metadata": {},
   "outputs": [],
   "source": [
    "scenario_list = [\n",
    "    pyam.IamDataFrame(\n",
    "        ixmp.Scenario(mp=ar6_submission, model=m, scenario=s).timeseries()\n",
    "    )\n",
    "    for (m, s) in scenario_selection\n",
    "]\n",
    "df = pyam.concat(scenario_list)"
   ]
  },
  {
   "cell_type": "code",
   "execution_count": null,
   "id": "da71e188",
   "metadata": {},
   "outputs": [],
   "source": [
    "df.rename(region=region_rename_mapping, inplace=True)"
   ]
  },
  {
   "cell_type": "code",
   "execution_count": null,
   "id": "2f5f5a6f",
   "metadata": {},
   "outputs": [],
   "source": [
    "df.rename(region={\n",
    "    \"R5OECD90+EU\": \"OECD & EU (R5)\",\n",
    "    \"R5ASIA\": \"Asia (R5)\",\n",
    "    \"R5REF\": \"Reforming Economies (R5)\",\n",
    "    \"R5MAF\": \"Middle East & Africa (R5)\",\n",
    "    \"R5LAM\": \"Latin America (R5)\",\n",
    "}, inplace=True)"
   ]
  },
  {
   "cell_type": "code",
   "execution_count": null,
   "id": "d39e53c8",
   "metadata": {},
   "outputs": [],
   "source": [
    "# REMIND 1.7\n",
    "\n",
    "remind_eu_region_rename_mapping = dict([\n",
    "    (i, i.replace(\"REMIND-MAgPIE 1.7-3.0\", \"REMIND 1.7\")) for i in df.region if \"REMIND\" in i\n",
    "])\n",
    "df.rename(region=remind_eu_region_rename_mapping, inplace=True)\n",
    "\n",
    "remind_region_rename_mapping = {\n",
    "    \"REMIND 2.0|Canada, Australia and New Zealand\":\n",
    "      \"REMIND 2.0|Canada, Australia, New Zealand\",\n",
    "    \"REMIND 2.0|China\":\n",
    "      \"REMIND 2.0|China and Taiwan\",\n",
    "    \"REMIND 2.0|Russia and Reforming Ecomonies\":\n",
    "      \"REMIND 2.0|Russia and Reforming Economies\",\n",
    "    \"REMIND 2.0|Middle East, North Africa, Central Asia\":\n",
    "      \"REMIND 2.0|Middle East and North Africa\",\n",
    "    \"REMIND 2.0|Sub-saharan Africa\":\n",
    "     \"REMIND 2.0|Sub-Saharan Africa\",\n",
    "    \"REMIND 2.0|Other Asian countries\":\n",
    "      \"REMIND 2.0|Other Asia\", \n",
    "    \"REMIND 2.0|European Union Center East countries\":\n",
    "      \"REMIND 2.0|EU Center-East Europe\",\n",
    "    \"REMIND 2.0|European Union Center South\":\n",
    "      \"REMIND 2.0|EU Center-South Europe\",\n",
    "    \"REMIND 2.0|European Union North Center countries\":\n",
    "      \"REMIND 2.0|EU North-Center Europe\",\n",
    "    \"REMIND 2.0|European Union South Center countries\":\n",
    "      \"REMIND 2.0|EU South-Center Europe\",\n",
    "    \"REMIND 2.0|European Union South West countries\":\n",
    "      \"REMIND 2.0|EU South-West Europe\",\n",
    "    \"REMIND 1.7|Sub-saharan Africa (excl. South Africa)\":\n",
    "      \"REMIND 1.7|Sub-Saharan Africa (excl. South Africa)\",\n",
    "    \"REMIND 1.7|other Asia\":\n",
    "      \"REMIND 1.7|Other Asia\",\n",
    "    \"REMIND 1.7|rest of the World (Canada, South Africa, NZ, Australia, Non-EU27 Europe)\":\n",
    "      \"REMIND 1.7|Rest of the World\",\n",
    "}\n",
    "df.rename(region=remind_region_rename_mapping, inplace=True)"
   ]
  },
  {
   "cell_type": "code",
   "execution_count": null,
   "id": "80c73f9e",
   "metadata": {},
   "outputs": [],
   "source": [
    "df.region"
   ]
  },
  {
   "cell_type": "code",
   "execution_count": null,
   "id": "c0d352a5",
   "metadata": {},
   "outputs": [],
   "source": [
    "df.filter(region=[\n",
    "    \"China\", \"India\", \"Japan\", \"Brazil\", \"Mexico\", \n",
    "    \"United States of America\", \"European Union (28 member countries)\",\n",
    "    \"REMIND 1.7*\"\n",
    "], keep=False, inplace=True)"
   ]
  },
  {
   "cell_type": "code",
   "execution_count": null,
   "id": "4d7daaf6",
   "metadata": {},
   "outputs": [],
   "source": [
    "df.filter(variable=eu_climate_dsd.variable, inplace=True)"
   ]
  },
  {
   "cell_type": "code",
   "execution_count": null,
   "id": "31a85ca3",
   "metadata": {},
   "outputs": [],
   "source": [
    "df.rename(unit={\n",
    "    \"billion Int$2010/yr\": \"billion US$2010/yr\",\n",
    "    \"bn vkm/yr\": \"billion vkm/yr\",\n",
    "    \"bn pkm/yr\": \"billion pkm/yr\",\n",
    "    \"bn tkm/yr\": \"billion tkm/yr\",\n",
    "    \"bn m2/yr\": \"billion m2/yr\",\n",
    "    \"Mt/year\": \"Mt/yr\",\n",
    "}, inplace=True)"
   ]
  },
  {
   "cell_type": "code",
   "execution_count": null,
   "id": "d73e2e34",
   "metadata": {},
   "outputs": [],
   "source": [
    "eu_climate_dsd.validate(df)"
   ]
  },
  {
   "cell_type": "code",
   "execution_count": null,
   "id": "7c9e1d0d",
   "metadata": {},
   "outputs": [],
   "source": [
    "for (_model, _scenario) in df.index:\n",
    "    _df = df.filter(model=_model, scenario=_scenario)\n",
    "    # initialize scenario and add timeseries data\n",
    "    scen = ixmp.Scenario(eu_climate, _model, _scenario, version=\"new\")\n",
    "    scen.add_timeseries(df.data)\n",
    "    scen.commit(f\"Migrated from the IPCC AR6 database\")\n",
    "    scen.set_as_default()\n",
    "\n",
    "    scen.set_meta({\"Source\": f\"CD-LINKS (via IPCC AR6)\"})\n",
    "    \n",
    "    print(f\"Model {_model} - Scenario {_scenario}\" )"
   ]
  },
  {
   "cell_type": "code",
   "execution_count": null,
   "id": "676f0067",
   "metadata": {},
   "outputs": [],
   "source": []
  }
 ],
 "metadata": {
  "kernelspec": {
   "display_name": "Python 3 (ipykernel)",
   "language": "python",
   "name": "python3"
  },
  "language_info": {
   "codemirror_mode": {
    "name": "ipython",
    "version": 3
   },
   "file_extension": ".py",
   "mimetype": "text/x-python",
   "name": "python",
   "nbconvert_exporter": "python",
   "pygments_lexer": "ipython3",
   "version": "3.8.12"
  },
  "latex_envs": {
   "LaTeX_envs_menu_present": true,
   "autoclose": false,
   "autocomplete": true,
   "bibliofile": "biblio.bib",
   "cite_by": "apalike",
   "current_citInitial": 1,
   "eqLabelWithNumbers": true,
   "eqNumInitial": 1,
   "hotkeys": {
    "equation": "Ctrl-E",
    "itemize": "Ctrl-I"
   },
   "labels_anchors": false,
   "latex_user_defs": false,
   "report_style_numbering": false,
   "user_envs_cfg": false
  }
 },
 "nbformat": 4,
 "nbformat_minor": 5
}
