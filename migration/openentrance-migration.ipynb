{
 "cells": [
  {
   "cell_type": "code",
   "execution_count": null,
   "id": "c3ec7e94",
   "metadata": {},
   "outputs": [],
   "source": [
    "import ixmp\n",
    "import pyam\n",
    "import nomenclature"
   ]
  },
  {
   "cell_type": "code",
   "execution_count": null,
   "id": "8cd4dc5d",
   "metadata": {},
   "outputs": [],
   "source": [
    "eu_climate = ixmp.Platform(\"eu-climate-submission\")"
   ]
  },
  {
   "cell_type": "code",
   "execution_count": null,
   "id": "ac279d78",
   "metadata": {},
   "outputs": [],
   "source": [
    "eu_climate_dsd = nomenclature.DataStructureDefinition(\"../definitions/\")\n",
    "eu_climate_rp = nomenclature.RegionProcessor.from_directory(\"../mappings\")"
   ]
  },
  {
   "cell_type": "code",
   "execution_count": null,
   "id": "e9e9a5cf",
   "metadata": {},
   "outputs": [],
   "source": [
    "source_db = ixmp.Platform(\"openentrance-internal\")"
   ]
  },
  {
   "cell_type": "code",
   "execution_count": null,
   "id": "e7e8651d",
   "metadata": {},
   "outputs": [],
   "source": [
    "oe_db = ixmp.Platform(\"openentrance\")"
   ]
  },
  {
   "cell_type": "code",
   "execution_count": null,
   "id": "5178ed97",
   "metadata": {},
   "outputs": [],
   "source": [
    "props = source_db.scenario_list()"
   ]
  },
  {
   "cell_type": "code",
   "execution_count": null,
   "id": "207ec45e",
   "metadata": {},
   "outputs": [],
   "source": [
    "props.model.unique()"
   ]
  },
  {
   "cell_type": "code",
   "execution_count": null,
   "id": "d9d96108",
   "metadata": {},
   "outputs": [],
   "source": [
    "model = \"GENeSYS-MOD 3.1\""
   ]
  },
  {
   "cell_type": "code",
   "execution_count": null,
   "id": "65da9de1",
   "metadata": {},
   "outputs": [],
   "source": [
    "list()"
   ]
  },
  {
   "cell_type": "code",
   "execution_count": null,
   "id": "bc149902",
   "metadata": {},
   "outputs": [],
   "source": [
    "scenarios = props[props.model == model].scenario"
   ]
  },
  {
   "cell_type": "code",
   "execution_count": null,
   "id": "260b607d",
   "metadata": {},
   "outputs": [],
   "source": [
    "scenario_list = [\n",
    "    pyam.IamDataFrame(\n",
    "        ixmp.Scenario(mp=source_db, model=model, scenario=s).timeseries()\n",
    "    )\n",
    "    for s in scenarios\n",
    "]\n",
    "df = pyam.concat(scenario_list)"
   ]
  },
  {
   "cell_type": "code",
   "execution_count": null,
   "id": "4ddd16ed",
   "metadata": {},
   "outputs": [],
   "source": [
    "dict()"
   ]
  },
  {
   "cell_type": "code",
   "execution_count": null,
   "id": "b8699822",
   "metadata": {},
   "outputs": [],
   "source": [
    "df.rename(region={\"Slovak Republic\": \"Slovakia\"}, inplace=True)"
   ]
  },
  {
   "cell_type": "code",
   "execution_count": null,
   "id": "668c60df",
   "metadata": {},
   "outputs": [],
   "source": [
    "# migration to public openENTRANCE database\n",
    "for (_model, _scenario) in df.index:\n",
    "    _df = df.filter(model=_model, scenario=_scenario)\n",
    "\n",
    "    # initialize scenario and add timeseries data\n",
    "    scen = ixmp.Scenario(oe_db, _model, _scenario, version=\"new\")\n",
    "    scen.add_timeseries(_df.data)\n",
    "    scen.commit(f\"Migrated from H2020 openENTRANCE (project-internal) database\")\n",
    "    scen.set_as_default()"
   ]
  },
  {
   "cell_type": "code",
   "execution_count": null,
   "id": "4cead53f",
   "metadata": {},
   "outputs": [],
   "source": [
    "df.filter(variable=eu_climate_dsd.variable, inplace=True)"
   ]
  },
  {
   "cell_type": "code",
   "execution_count": null,
   "id": "3f41a964",
   "metadata": {},
   "outputs": [],
   "source": [
    "df.rename(unit={\n",
    "    \"USD_2010/kWr\": \"US$2010/kW\",\n",
    "    \"Gpkm/yr\": \"billion pkm/yr\",\n",
    "    \"Gtkm/yr\": \"billion tkm/yr\",\n",
    "}, inplace=True)"
   ]
  },
  {
   "cell_type": "code",
   "execution_count": null,
   "id": "155d4799",
   "metadata": {},
   "outputs": [],
   "source": [
    "eu_climate_dsd.validate(df)"
   ]
  },
  {
   "cell_type": "code",
   "execution_count": null,
   "id": "b8d2f0c1",
   "metadata": {},
   "outputs": [],
   "source": [
    "for (_model, _scenario) in df.index:\n",
    "    _df = df.filter(model=_model, scenario=_scenario)\n",
    "\n",
    "    # initialize scenario and add timeseries data\n",
    "    scen = ixmp.Scenario(eu_climate, _model, _scenario, version=\"new\")\n",
    "    scen.add_timeseries(_df.data)\n",
    "    scen.commit(f\"Migrated from H2020 openENTRANCE (project-internal) database\")\n",
    "    scen.set_as_default()\n",
    "\n",
    "    scen.set_meta({\"Source\": \"H2020 openENTRANCE\"})"
   ]
  },
  {
   "cell_type": "code",
   "execution_count": null,
   "id": "676f0067",
   "metadata": {},
   "outputs": [],
   "source": []
  }
 ],
 "metadata": {
  "kernelspec": {
   "display_name": "Python 3 (ipykernel)",
   "language": "python",
   "name": "python3"
  },
  "language_info": {
   "codemirror_mode": {
    "name": "ipython",
    "version": 3
   },
   "file_extension": ".py",
   "mimetype": "text/x-python",
   "name": "python",
   "nbconvert_exporter": "python",
   "pygments_lexer": "ipython3",
   "version": "3.8.12"
  },
  "latex_envs": {
   "LaTeX_envs_menu_present": true,
   "autoclose": false,
   "autocomplete": true,
   "bibliofile": "biblio.bib",
   "cite_by": "apalike",
   "current_citInitial": 1,
   "eqLabelWithNumbers": true,
   "eqNumInitial": 1,
   "hotkeys": {
    "equation": "Ctrl-E",
    "itemize": "Ctrl-I"
   },
   "labels_anchors": false,
   "latex_user_defs": false,
   "report_style_numbering": false,
   "user_envs_cfg": false
  }
 },
 "nbformat": 4,
 "nbformat_minor": 5
}
