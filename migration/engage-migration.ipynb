{
 "cells": [
  {
   "cell_type": "code",
   "execution_count": null,
   "id": "c3ec7e94",
   "metadata": {},
   "outputs": [],
   "source": [
    "import ixmp\n",
    "import yaml\n",
    "import pyam\n",
    "import nomenclature"
   ]
  },
  {
   "cell_type": "code",
   "execution_count": null,
   "id": "588e096f",
   "metadata": {},
   "outputs": [],
   "source": [
    "with open(\"region_rename.yaml\") as f:\n",
    "    region_rename_mapping = yaml.safe_load(f)"
   ]
  },
  {
   "cell_type": "code",
   "execution_count": null,
   "id": "8e961c48",
   "metadata": {},
   "outputs": [],
   "source": [
    "eu_climate = ixmp.Platform(\"eu-climate-submission\")"
   ]
  },
  {
   "cell_type": "code",
   "execution_count": null,
   "id": "4beb269b",
   "metadata": {},
   "outputs": [],
   "source": [
    "eu_climate_list = eu_climate.scenario_list()"
   ]
  },
  {
   "cell_type": "code",
   "execution_count": null,
   "id": "b2779bbd",
   "metadata": {},
   "outputs": [],
   "source": [
    "list()"
   ]
  },
  {
   "cell_type": "code",
   "execution_count": null,
   "id": "f622d316",
   "metadata": {},
   "outputs": [],
   "source": [
    "eu_climate_list[eu_climate_list.scenario == \"EN_NPi2100\"]"
   ]
  },
  {
   "cell_type": "code",
   "execution_count": null,
   "id": "65d20532",
   "metadata": {},
   "outputs": [],
   "source": [
    "eu_climate_dsd = nomenclature.DataStructureDefinition(\"../definitions/\")"
   ]
  },
  {
   "cell_type": "code",
   "execution_count": null,
   "id": "e9e9a5cf",
   "metadata": {},
   "outputs": [],
   "source": [
    "engage_public = ixmp.Platform(\"engage\")"
   ]
  },
  {
   "cell_type": "code",
   "execution_count": null,
   "id": "1f012412",
   "metadata": {},
   "outputs": [],
   "source": [
    "engage_public_list = engage_public.scenario_list()"
   ]
  },
  {
   "cell_type": "code",
   "execution_count": null,
   "id": "c1a7258e",
   "metadata": {},
   "outputs": [],
   "source": [
    "engage_public_list.model.unique()"
   ]
  },
  {
   "cell_type": "code",
   "execution_count": null,
   "id": "57cc167d",
   "metadata": {},
   "outputs": [],
   "source": [
    "engage_public_list.scenario.unique()"
   ]
  },
  {
   "cell_type": "code",
   "execution_count": null,
   "id": "da957f1f",
   "metadata": {},
   "outputs": [],
   "source": [
    "engage_internal = ixmp.Platform(\"engage-internal\")"
   ]
  },
  {
   "cell_type": "code",
   "execution_count": null,
   "id": "a1fe39df",
   "metadata": {},
   "outputs": [],
   "source": [
    "engage_internal_list = engage_internal.scenario_list()"
   ]
  },
  {
   "cell_type": "code",
   "execution_count": null,
   "id": "34cd85ca",
   "metadata": {},
   "outputs": [],
   "source": [
    "engage_internal_list.model.unique()"
   ]
  },
  {
   "cell_type": "code",
   "execution_count": null,
   "id": "7c3cd749",
   "metadata": {},
   "outputs": [],
   "source": [
    "model_list = [\n",
    "    'AIM/CGE V2.2',\n",
    "    'COFFEE 1.1',\n",
    "    'GEM-E3 V2021',\n",
    "    'IMAGE 3.0',\n",
    "    'MESSAGEix-GLOBIOM 1.1',\n",
    "    'POLES-JRC ENGAGE',\n",
    "    'REMIND-MAgPIE 2.1-4.2',\n",
    "    'TIAM-ECN 1.1',\n",
    "    'WITCH 5.0'\n",
    "]"
   ]
  },
  {
   "cell_type": "code",
   "execution_count": null,
   "id": "9747f66b",
   "metadata": {},
   "outputs": [],
   "source": [
    "list()"
   ]
  },
  {
   "cell_type": "code",
   "execution_count": null,
   "id": "ea1569bd",
   "metadata": {},
   "outputs": [],
   "source": [
    "model_public = \"WITCH 5.0\"\n",
    "model_internal = \"WITCH 5.0\"\n",
    "\n",
    "scenarios = engage_public_list[engage_public_list.model == model_public].scenario"
   ]
  },
  {
   "cell_type": "code",
   "execution_count": null,
   "id": "2d934f19",
   "metadata": {},
   "outputs": [],
   "source": [
    "scenarios"
   ]
  },
  {
   "cell_type": "code",
   "execution_count": null,
   "id": "e4f58ce7",
   "metadata": {},
   "outputs": [],
   "source": [
    "for s in scenarios:\n",
    "    scen = ixmp.Scenario(engage_internal, model=model_internal, scenario=s)\n",
    "    df = pyam.IamDataFrame(scen.timeseries())\n",
    "    \n",
    "    df.rename(region=region_rename_mapping, inplace=True)\n",
    "\n",
    "    df.filter(\n",
    "        region=[\"People's Repulic of China\", \"Republic of India\", \"United States of America\",\n",
    "               \"Russian Federation\", \"State of Japan\", \"European Union (28 member countries)\",\n",
    "               \"Federative Republic of Brazil\", \"Argentine Republic\", \"Canada\",\n",
    "                \"Commonwealth of Australia\", \"Kingdom of Saudi Arabia\", \"Republic of Indonesia\",\n",
    "                'Republic of Korea (South Korea)', 'Republic of South Africa', \"Republic of Turkey\",\n",
    "                \"United Mexican States\", \"Thailand \", \"Viet Nam \"],\n",
    "        keep=False,\n",
    "        inplace=True\n",
    "    )\n",
    "    \n",
    "    # MESSAGE\n",
    "    message_region_rename_mapping = dict([\n",
    "        (i, i.replace(\"_1.1\", \" 1.1\")) for i in df.region if \"MESSAGE\" in i\n",
    "    ])\n",
    "    df.rename(region=message_region_rename_mapping, inplace=True)\n",
    "    df.rename(region={\"MESSAGEix-GLOBIOM 1.1|Sub-saharan Africa\": \"MESSAGEix-GLOBIOM 1.1|Sub-Saharan Africa\"}, inplace=True)\n",
    "    df.rename(model={\"MESSAGEix-GLOBIOM_1.1\": \"MESSAGEix-GLOBIOM 1.1\"}, inplace=True)\n",
    "    \n",
    "    # AIM\n",
    "    aim_region_rename_mapping = dict([\n",
    "        (i, i.replace(\"AIM/CGE V2.2\", \"AIM/CGE 2.2\")) for i in df.region if \"AIM\" in i\n",
    "    ])\n",
    "    df.rename(region=aim_region_rename_mapping, inplace=True)\n",
    "    \n",
    "    df.rename(model={\"AIM/CGE V2.2\": \"AIM/CGE 2.2\"}, inplace=True)\n",
    "    if df.model[0] == \"AIM/CGE 2.2\":\n",
    "        df.filter(variable=[\"Water Withdrawal|Irrigation\",\n",
    "                            \"Yield|Oilcrops\"], keep=False, inplace=True)\n",
    "    \n",
    "    # GEM-E3\n",
    "    geme3_region_rename_mapping = dict([\n",
    "        (i, i.replace(\"GEM-E3_V2021\", \"GEM-E3 v2021\")) for i in df.region if \"GEM-E3\" in i\n",
    "    ])\n",
    "    df.rename(region=geme3_region_rename_mapping, inplace=True)\n",
    "    df.rename(model={\"GEM-E3_V2021\": \"GEM-E3 v2021\"}, inplace=True)\n",
    "    if df.model[0] == \"GEM-E3 v2021\":\n",
    "        df.filter(variable=[\"Expenditure|household*\", \"Import*\"], keep=False, inplace=True)\n",
    "    \n",
    "    # IMAGE\n",
    "    image_region_rename_mapping = {\n",
    "        \"IMAGE 3.0|C. Europe\": \"IMAGE 3.0|Central Europe\",\n",
    "        \"IMAGE 3.0|E. Africa\": \"IMAGE 3.0|Eastern Africa\",\n",
    "        \"IMAGE 3.0|N. Africa\": \"IMAGE 3.0|Northern Africa\",\n",
    "        \"IMAGE 3.0|Rest C. America\": \"IMAGE 3.0|Other Central America\",\n",
    "        \"IMAGE 3.0|Rest S. Africa\": \"IMAGE 3.0|Other Southern Africa\",\n",
    "        \"IMAGE 3.0|Rest S. America\": \"IMAGE 3.0|Other Southern America\",\n",
    "        \"IMAGE 3.0|Rest S. Asia\": \"IMAGE 3.0|Other Southern Asia\",\n",
    "        \"IMAGE 3.0|SE. Asia\": \"IMAGE 3.0|South-East Asia\",\n",
    "        \"IMAGE 3.0|W. Africa\": \"IMAGE 3.0|Western Africa\",\n",
    "        \"IMAGE 3.0|W. Europe\": \"IMAGE 3.0|Western Europe\",\n",
    "    }\n",
    "    df.rename(region=image_region_rename_mapping, inplace=True)\n",
    "    \n",
    "    # POLES\n",
    "    poles_region_rename_mapping = dict([\n",
    "        (i, i.replace(\"POLES\", \"POLES JRC\")) for i in df.region if \"POLES\" in i\n",
    "    ])\n",
    "    df.rename(region=poles_region_rename_mapping, inplace=True)\n",
    "    if df.model[0] == \"POLES ENGAGE\":\n",
    "        df.filter(region=\"POLES JRC ENGAGE|World\", keep=False, inplace=True)\n",
    "    \n",
    "    poles_region_rename_mapping = {\n",
    "        \"POLES JRC ENGAGE|Arfica (10R Map)\": \"POLES JRC ENGAGE|Africa (10R Map)\",\n",
    "        \"POLES JRC ENGAGE|Indai+ (10R Map)\": \"POLES JRC ENGAGE|India+ (10R Map)\",\n",
    "        \"POLES JRC ENGAGE|Latin Amarica (10R Map\": \"POLES JRC ENGAGE|Latin America (10R Map)\",\n",
    "        \"POLES JRC ENGAGE|Reforming Econonies (10R Map)\": \"POLES JRC ENGAGE|Reforming Economies (10R Map)\",\n",
    "    }\n",
    "    df.rename(region=poles_region_rename_mapping, inplace=True)\n",
    "    df.rename(model={\"POLES ENGAGE\": \"POLES-JRC ENGAGE\"}, inplace=True)\n",
    "    \n",
    "    # REMIND\n",
    "    remind_region_rename_mapping = dict([\n",
    "        (i, i.replace(\"REMIND-MAgPIE 2.1-4.2\", \"REMIND 2.1\")) for i in df.region if \"REMIND\" in i\n",
    "    ])\n",
    "    df.rename(region=remind_region_rename_mapping, inplace=True)\n",
    "\n",
    "    remind_region_rename_mapping = {\n",
    "        \"REMIND 2.1|Canada, NZ, Australia\":\n",
    "         \"REMIND 2.1|Canada, Australia, New Zealand\",\n",
    "        \"REMIND 2.1|China\":\n",
    "          \"REMIND 2.1|China and Taiwan\",\n",
    "        \"REMIND 2.1|Countries from the Reforming Ecomonies of the Former Soviet Union\":\n",
    "          \"REMIND 2.1|Russia and Reforming Economies\",\n",
    "        \"REMIND 2.1|Middle East, North Africa, Central Asia\":\n",
    "          \"REMIND 2.1|Middle East and North Africa\",\n",
    "        \"REMIND 2.1|Sub-saharan Africa\":\n",
    "         \"REMIND 2.1|Sub-Saharan Africa\",\n",
    "        \"REMIND 2.1|other Asia\":\n",
    "          \"REMIND 2.1|Other Asia\",\n",
    "    }\n",
    "    df.rename(region=remind_region_rename_mapping, inplace=True)\n",
    "        \n",
    "    # WITCH\n",
    "    df.rename(unit={\"nan\": \"EJ/yr\"}, inplace=True)\n",
    "    \n",
    "    df.filter(variable=\"Temperature|Global Mean\", keep=False, inplace=True)\n",
    "    \n",
    "    df.filter(variable=eu_climate_dsd.variable, inplace=True)\n",
    "    \n",
    "    df.rename(unit={\n",
    "        \"Mt NOx/yr\": \"Mt NO2/yr\",\n",
    "        \"US$2010/GJ or local currency/GJ\": \"US$2010/GJ\",\n",
    "        \"US$2010/t CO2 or local currency/t CO2\": \"US$2010/t CO2\",\n",
    "        \"US$2010/tCO2\": \"US$2010/t CO2\",\n",
    "        \"US$2010/kW OR local currency/kW\": \"US$2010/kW\",\n",
    "        \"billion US$2010/yr OR local currency/yr\": \"billion US$2010/yr\",\n",
    "        \"US$2010/kW/yr OR local currency/kW/yr\": \"US$2010/kW/yr\",\n",
    "        \"billion US$2010/yr OR local currency\": \"billion US$2010/yr\",\n",
    "        \"billion US$2010/yr or local currency/yr\": \"billion US$2010/yr\",\n",
    "        \"Million\": \"million\",\n",
    "        \"million Ha/yr\": \"million ha\",\n",
    "    }, inplace=True)\n",
    "    \n",
    "    df.convert_unit(\"Mt N2O/yr\", \"kt N2O/yr\", inplace=True)\n",
    "    \n",
    "    df.filter(variable=[\"Trade\"], keep=False, inplace=True)\n",
    "    df.filter(unit=\"Index (2005 = 1)\", keep=False, inplace=True)\n",
    "\n",
    "#    for v in [i for i in df.variable if i.startswith(\"Capacity Additions|Electricity\")]:\n",
    "#        df.rename(variable={v: v}, unit={\"GW\": \"GW/yr\"}, inplace=True)\n",
    "        \n",
    "#    v = \"Capacity Additions|Electricity|Storage Capacity\"\n",
    "#    df.rename(variable={v: v}, unit={\"GW/yr\": \"GWh/yr\"}, inplace=True)\n",
    "    \n",
    "    eu_climate_dsd.validate(df)\n",
    "    \n",
    "    # initialize scenario and add timeseries data\n",
    "    scen = ixmp.Scenario(eu_climate, df.model[0], s, version=\"new\")\n",
    "    scen.add_timeseries(df.data)\n",
    "    scen.commit(f\"Migrated from the database of the H2020 project ENGAGE-Climate\")\n",
    "    scen.set_as_default()\n",
    "\n",
    "    scen.set_meta({\"Source\": \"H2020 ENGAGE\"})\n",
    "    \n",
    "    print(f\"Model {model_public} - Scenario {s}\" )\n",
    "\n",
    "print(\"Done!\")"
   ]
  },
  {
   "cell_type": "markdown",
   "id": "34272952",
   "metadata": {},
   "source": [
    "# Development section"
   ]
  },
  {
   "cell_type": "code",
   "execution_count": null,
   "id": "89a33d64",
   "metadata": {},
   "outputs": [],
   "source": [
    "scen = ixmp.Scenario(engage_internal, model=model_internal, scenario=\"EN_NPi2020_1000\")"
   ]
  },
  {
   "cell_type": "code",
   "execution_count": null,
   "id": "016ef739",
   "metadata": {},
   "outputs": [],
   "source": [
    "df = pyam.IamDataFrame(scen.timeseries())"
   ]
  },
  {
   "cell_type": "code",
   "execution_count": null,
   "id": "18346782",
   "metadata": {},
   "outputs": [],
   "source": [
    "df.rename(region=region_rename_mapping, inplace=True)"
   ]
  },
  {
   "cell_type": "code",
   "execution_count": null,
   "id": "0f5d371e",
   "metadata": {},
   "outputs": [],
   "source": [
    "df.filter(\n",
    "    region=[\"People's Repulic of China\", \"Republic of India\", \"United States of America\",\n",
    "           \"Russian Federation\", \"State of Japan\", \"European Union (28 member countries)\",\n",
    "           \"Federative Republic of Brazil\", \"Argentine Republic\", \"Canada\",\n",
    "            \"Commonwealth of Australia\", \"Kingdom of Saudi Arabia\", \"Republic of Indonesia\",\n",
    "            'Republic of Korea (South Korea)', 'Republic of South Africa', \"Republic of Turkey\",\n",
    "            \"United Mexican States\", \"Thailand \", \"Viet Nam \"],\n",
    "    keep=False,\n",
    "    inplace=True\n",
    ")"
   ]
  },
  {
   "cell_type": "code",
   "execution_count": null,
   "id": "349a2ec6",
   "metadata": {},
   "outputs": [],
   "source": [
    "# MESSAGE\n",
    "\n",
    "message_region_rename_mapping = dict([\n",
    "    (i, i.replace(\"_1.1\", \" 1.1\")) for i in df.region if \"MESSAGE\" in i\n",
    "])\n",
    "df.rename(region=message_region_rename_mapping, inplace=True)\n",
    "df.rename(region={\"MESSAGEix-GLOBIOM 1.1|Sub-saharan Africa\": \"MESSAGEix-GLOBIOM 1.1|Sub-Saharan Africa\"}, inplace=True)\n",
    "df.rename(model={\"MESSAGEix-GLOBIOM_1.1\": \"MESSAGEix-GLOBIOM 1.1\"}, inplace=True)"
   ]
  },
  {
   "cell_type": "code",
   "execution_count": null,
   "id": "157215a8",
   "metadata": {},
   "outputs": [],
   "source": [
    "# AIM\n",
    "aim_region_rename_mapping = dict([\n",
    "    (i, i.replace(\"AIM/CGE V2.2\", \"AIM/CGE 2.2\")) for i in df.region if \"AIM\" in i\n",
    "])\n",
    "df.rename(region=aim_region_rename_mapping, inplace=True)"
   ]
  },
  {
   "cell_type": "code",
   "execution_count": null,
   "id": "fd71d3ac",
   "metadata": {},
   "outputs": [],
   "source": [
    "# GEM-E3\n",
    "geme3_region_rename_mapping = dict([\n",
    "    (i, i.replace(\"GEM-E3_V2021\", \"GEM-E3 v2021\")) for i in df.region if \"GEM-E3\" in i\n",
    "])\n",
    "df.rename(region=geme3_region_rename_mapping, inplace=True)\n",
    "df.rename(model={\"GEM-E3_V2021\": \"GEM-E3 v2021\"}, inplace=True)"
   ]
  },
  {
   "cell_type": "code",
   "execution_count": null,
   "id": "971df037",
   "metadata": {},
   "outputs": [],
   "source": [
    "# IMAGE\n",
    "image_region_rename_mapping = {\n",
    "    \"IMAGE 3.0|C. Europe\": \"IMAGE 3.0|Central Europe\",\n",
    "    \"IMAGE 3.0|E. Africa\": \"IMAGE 3.0|Eastern Africa\",\n",
    "    \"IMAGE 3.0|N. Africa\": \"IMAGE 3.0|Northern Africa\",\n",
    "    \"IMAGE 3.0|Rest C. America\": \"IMAGE 3.0|Other Central America\",\n",
    "    \"IMAGE 3.0|Rest S. Africa\": \"IMAGE 3.0|Other Southern Africa\",\n",
    "    \"IMAGE 3.0|Rest S. America\": \"IMAGE 3.0|Other Southern America\",\n",
    "    \"IMAGE 3.0|Rest S. Asia\": \"IMAGE 3.0|Other Southern Asia\",\n",
    "    \"IMAGE 3.0|SE. Asia\": \"IMAGE 3.0|South-East Asia\",\n",
    "    \"IMAGE 3.0|W. Africa\": \"IMAGE 3.0|Western Africa\",\n",
    "    \"IMAGE 3.0|W. Europe\": \"IMAGE 3.0|Western Europe\",\n",
    "}\n",
    "df.rename(region=image_region_rename_mapping, inplace=True)"
   ]
  },
  {
   "cell_type": "code",
   "execution_count": null,
   "id": "42d264d9",
   "metadata": {},
   "outputs": [],
   "source": [
    "# POLES\n",
    "df.rename(model={\"POLES ENGAGE\": \"POLES-JRC ENGAGE\"}, inplace=True)"
   ]
  },
  {
   "cell_type": "code",
   "execution_count": null,
   "id": "92d78076",
   "metadata": {},
   "outputs": [],
   "source": [
    "# REMIND\n",
    "remind_region_rename_mapping = dict([\n",
    "    (i, i.replace(\"REMIND-MAgPIE 2.1-4.2\", \"REMIND 2.1\")) for i in df.region if \"REMIND\" in i\n",
    "])\n",
    "df.rename(region=remind_region_rename_mapping, inplace=True)\n",
    "\n",
    "remind_region_rename_mapping = {\n",
    "    \"REMIND 2.1|Canada, NZ, Australia\":\n",
    "     \"REMIND 2.1|Canada, Australia, New Zealand\",\n",
    "    \"REMIND 2.1|China\":\n",
    "      \"REMIND 2.1|China and Taiwan\",\n",
    "    \"REMIND 2.1|Russia and Reforming Economies\":\n",
    "      \"REMIND 2.1|Russia and Reforming Economies\",\n",
    "    \"REMIND 2.1|Middle East and North Africa\":\n",
    "      \"REMIND 2.1|Middle East, North Africa, Central Asia\",\n",
    "    \"REMIND 2.1|Sub-saharan Africa\":\n",
    "     \"REMIND 2.1|Sub-Saharan Africa\",\n",
    "    \"REMIND 2.1|other Asia\":\n",
    "      \"REMIND 2.1|Other Asia\",\n",
    "}\n",
    "df.rename(region=remind_region_rename_mapping, inplace=True)"
   ]
  },
  {
   "cell_type": "code",
   "execution_count": null,
   "id": "52af181a",
   "metadata": {},
   "outputs": [],
   "source": [
    "# WITCH"
   ]
  },
  {
   "cell_type": "code",
   "execution_count": null,
   "id": "4cead53f",
   "metadata": {},
   "outputs": [],
   "source": [
    "df.filter(variable=eu_climate_dsd.variable, inplace=True)"
   ]
  },
  {
   "cell_type": "code",
   "execution_count": null,
   "id": "8d69a830",
   "metadata": {},
   "outputs": [],
   "source": [
    "df.rename(unit={\n",
    "    \"Mt NOx/yr\": \"Mt NO2/yr\",\n",
    "    \"US$2010/GJ or local currency/GJ\": \"US$2010/GJ\",\n",
    "    \"US$2010/t CO2 or local currency/t CO2\": \"US$2010/t CO2\",\n",
    "}, inplace=True)"
   ]
  },
  {
   "cell_type": "code",
   "execution_count": null,
   "id": "a62d30f2",
   "metadata": {},
   "outputs": [],
   "source": [
    "df.filter(variable=[\n",
    "    \"Trade\", \"Price|Agriculture|Non-Energy Crops and Livestock|Index\", \"Price|Agriculture|Non-Energy Crops|Index\"\n",
    "], keep=False, inplace=True)"
   ]
  },
  {
   "cell_type": "code",
   "execution_count": null,
   "id": "0fa14b48",
   "metadata": {},
   "outputs": [],
   "source": [
    "for v in [i for i in df.variable if i.startswith(\"Capacity Additions|Electricity\")]:\n",
    "    df.rename(variable={v: v}, unit={\"GW\": \"GW/yr\"}, inplace=True)"
   ]
  },
  {
   "cell_type": "code",
   "execution_count": null,
   "id": "5c8e61d9",
   "metadata": {},
   "outputs": [],
   "source": [
    "v = \"Capacity Additions|Electricity|Storage Capacity\"\n",
    "df.rename(variable={v: v}, unit={\"GW/yr\": \"GWh/yr\"}, inplace=True)"
   ]
  },
  {
   "cell_type": "code",
   "execution_count": null,
   "id": "155d4799",
   "metadata": {},
   "outputs": [],
   "source": [
    "eu_climate_dsd.validate(df)"
   ]
  },
  {
   "cell_type": "code",
   "execution_count": null,
   "id": "b8d2f0c1",
   "metadata": {},
   "outputs": [],
   "source": [
    "for (_model, _scenario) in df.index:\n",
    "    _df = df.filter(model=_model, scenario=_scenario)\n",
    "\n",
    "    # initialize scenario and add timeseries data\n",
    "    scen = ixmp.Scenario(eu_climate, _model, _scenario, version=\"new\")\n",
    "    scen.add_timeseries(_df.data)\n",
    "    scen.commit(f\"Migrated from the database of the H2020 project ENGAGE-Climate\")\n",
    "    scen.set_as_default()\n",
    "\n",
    "    scen.set_meta({\"Source\": \"H2020 ENGAGE\"})"
   ]
  },
  {
   "cell_type": "code",
   "execution_count": null,
   "id": "676f0067",
   "metadata": {},
   "outputs": [],
   "source": []
  }
 ],
 "metadata": {
  "kernelspec": {
   "display_name": "Python 3 (ipykernel)",
   "language": "python",
   "name": "python3"
  },
  "language_info": {
   "codemirror_mode": {
    "name": "ipython",
    "version": 3
   },
   "file_extension": ".py",
   "mimetype": "text/x-python",
   "name": "python",
   "nbconvert_exporter": "python",
   "pygments_lexer": "ipython3",
   "version": "3.8.12"
  },
  "latex_envs": {
   "LaTeX_envs_menu_present": true,
   "autoclose": false,
   "autocomplete": true,
   "bibliofile": "biblio.bib",
   "cite_by": "apalike",
   "current_citInitial": 1,
   "eqLabelWithNumbers": true,
   "eqNumInitial": 1,
   "hotkeys": {
    "equation": "Ctrl-E",
    "itemize": "Ctrl-I"
   },
   "labels_anchors": false,
   "latex_user_defs": false,
   "report_style_numbering": false,
   "user_envs_cfg": false
  }
 },
 "nbformat": 4,
 "nbformat_minor": 5
}
