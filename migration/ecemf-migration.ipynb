{
 "cells": [
  {
   "cell_type": "code",
   "execution_count": null,
   "id": "c3ec7e94",
   "metadata": {},
   "outputs": [],
   "source": [
    "import ixmp\n",
    "import pyam\n",
    "import nomenclature"
   ]
  },
  {
   "cell_type": "code",
   "execution_count": null,
   "id": "8cd4dc5d",
   "metadata": {},
   "outputs": [],
   "source": [
    "eu_climate = ixmp.Platform(\"eu-climate-submission\")"
   ]
  },
  {
   "cell_type": "code",
   "execution_count": null,
   "id": "ac279d78",
   "metadata": {},
   "outputs": [],
   "source": [
    "eu_climate_dsd = nomenclature.DataStructureDefinition(\"../definitions/\")\n",
    "eu_climate_rp = nomenclature.RegionProcessor.from_directory(\"../mappings\")"
   ]
  },
  {
   "cell_type": "code",
   "execution_count": null,
   "id": "e9e9a5cf",
   "metadata": {},
   "outputs": [],
   "source": [
    "source_db = ixmp.Platform(\"ecemf-internal\")"
   ]
  },
  {
   "cell_type": "code",
   "execution_count": null,
   "id": "5178ed97",
   "metadata": {},
   "outputs": [],
   "source": [
    "props = source_db.scenario_list()"
   ]
  },
  {
   "cell_type": "code",
   "execution_count": null,
   "id": "207ec45e",
   "metadata": {},
   "outputs": [],
   "source": [
    "props.model.unique()"
   ]
  },
  {
   "cell_type": "code",
   "execution_count": null,
   "id": "65da9de1",
   "metadata": {},
   "outputs": [],
   "source": [
    "list()"
   ]
  },
  {
   "cell_type": "code",
   "execution_count": null,
   "id": "bc149902",
   "metadata": {},
   "outputs": [],
   "source": [
    "props[props.model == \"REMIND 2.1\"]"
   ]
  },
  {
   "cell_type": "code",
   "execution_count": null,
   "id": "60acffb7",
   "metadata": {},
   "outputs": [],
   "source": [
    "scenario_mapping = {\n",
    "#    \"REMIND 2.1\": [\n",
    "# done        \"DIAG-C400-lin\",\n",
    "# done        \"DIAG-NPI\",\n",
    "# done        \"DIAG-C400-lin-LimBio\",\n",
    "# done        \"DIAG-C400-lin-HighEff\",\n",
    "# done        \"DIAG-C400-lin-LimNuclear\",\n",
    "# done        \"DIAG-NZero\"\n",
    "#    ],\n",
    "#    \"IMAGE 3.2\": [\n",
    "# done        \"DIAG-NPI\",\n",
    "# done        \"DIAG-C400-lin\",\n",
    "#    ],\n",
    "#    \"OSeMBE v1.0.0\": [\n",
    "# done       \"DIAG-NPI\",\n",
    "# done       \"DIAG-C400-lin\",\n",
    "#    ],\n",
    "#    \"PROMETHEUS 1.2\": [\n",
    "# done         \"DIAG-NPI\",\n",
    "# done         \"DIAG-C400-lin\",\n",
    "#    ],\n",
    "#    \"PRIMES 2022\": [\n",
    "# done         \"DIAG-NPI\",\n",
    "# done         \"DIAG-C400-lin\",\n",
    "#    ],\n",
    "#}"
   ]
  },
  {
   "cell_type": "code",
   "execution_count": null,
   "id": "f2f89c86",
   "metadata": {},
   "outputs": [],
   "source": [
    "scenario_selection = list()\n",
    "for model, scenarios in scenario_mapping.items():\n",
    "    for s in scenarios:\n",
    "        scenario_selection.append((model, s))"
   ]
  },
  {
   "cell_type": "code",
   "execution_count": null,
   "id": "4a2bc79a",
   "metadata": {},
   "outputs": [],
   "source": [
    "scenario_selection"
   ]
  },
  {
   "cell_type": "code",
   "execution_count": null,
   "id": "260b607d",
   "metadata": {},
   "outputs": [],
   "source": [
    "scenario_list = [\n",
    "    pyam.IamDataFrame(\n",
    "        ixmp.Scenario(mp=source_db, model=m, scenario=s).timeseries()\n",
    "    )\n",
    "    for (m, s) in scenario_selection\n",
    "]\n",
    "df = pyam.concat(scenario_list)"
   ]
  },
  {
   "cell_type": "code",
   "execution_count": null,
   "id": "4cead53f",
   "metadata": {},
   "outputs": [],
   "source": [
    "df.filter(variable=eu_climate_dsd.variable, inplace=True)"
   ]
  },
  {
   "cell_type": "code",
   "execution_count": null,
   "id": "3f41a964",
   "metadata": {},
   "outputs": [],
   "source": [
    "df.rename(unit={\n",
    "    \"Mt CO2e/yr\": \"Mt CO2-equiv/yr\",\n",
    "    \"Gpkm/yr\": \"billion pkm/yr\",\n",
    "    \"Gtkm/yr\": \"billion tkm/yr\",\n",
    "    \"bn m2/yr\": \"billion m2/yr\",\n",
    "}, inplace=True)"
   ]
  },
  {
   "cell_type": "code",
   "execution_count": null,
   "id": "d0f7737f",
   "metadata": {},
   "outputs": [],
   "source": [
    "remind_mapping = {}\n",
    "for key, value in eu_climate_rp.mappings[\"REMIND 2.1\"].rename_mapping.items():\n",
    "    remind_mapping[f\"REMIND 2.1|{key}\"] = value\n",
    "\n",
    "df.rename(region=remind_mapping, inplace=True)"
   ]
  },
  {
   "cell_type": "code",
   "execution_count": null,
   "id": "e9ae3f01",
   "metadata": {},
   "outputs": [],
   "source": [
    "image_mapping = {}\n",
    "for key, value in eu_climate_rp.mappings[\"IMAGE 3.2\"].rename_mapping.items():\n",
    "    image_mapping[f\"IMAGE 3.2|{key}\"] = value\n",
    "df.rename(region=image_mapping, inplace=True)"
   ]
  },
  {
   "cell_type": "code",
   "execution_count": null,
   "id": "c60d51b8",
   "metadata": {},
   "outputs": [],
   "source": [
    "osembe_mapping = {}\n",
    "for key, value in eu_climate_rp.mappings[\"ALADIN 1.0\"].rename_mapping.items():\n",
    "    osembe_mapping[f\"OSeMBE v1.0|{key}\"] = value\n",
    "df.rename(region=osembe_mapping, inplace=True)"
   ]
  },
  {
   "cell_type": "code",
   "execution_count": null,
   "id": "b0f37062",
   "metadata": {},
   "outputs": [],
   "source": [
    "df.filter(region=['Baltics', 'EU27 & EFTA', 'Scandinavia', '* (IP)'], keep=False, inplace=True)"
   ]
  },
  {
   "cell_type": "code",
   "execution_count": null,
   "id": "155d4799",
   "metadata": {},
   "outputs": [],
   "source": [
    "eu_climate_dsd.validate(df)"
   ]
  },
  {
   "cell_type": "code",
   "execution_count": null,
   "id": "b8d2f0c1",
   "metadata": {},
   "outputs": [],
   "source": [
    "for (_model, _scenario) in df.index:\n",
    "    _df = df.filter(model=_model, scenario=_scenario)\n",
    "\n",
    "    # initialize scenario and add timeseries data\n",
    "    scen = ixmp.Scenario(eu_climate, _model, _scenario, version=\"new\")\n",
    "    scen.add_timeseries(_df.data)\n",
    "    scen.commit(f\"Migrated from H2020 ECEMF (project-internal) database\")\n",
    "    scen.set_as_default()\n",
    "\n",
    "    scen.set_meta({\"Source\": \"H2020 ECEMF\"})"
   ]
  },
  {
   "cell_type": "code",
   "execution_count": null,
   "id": "676f0067",
   "metadata": {},
   "outputs": [],
   "source": []
  }
 ],
 "metadata": {
  "kernelspec": {
   "display_name": "Python 3 (ipykernel)",
   "language": "python",
   "name": "python3"
  },
  "language_info": {
   "codemirror_mode": {
    "name": "ipython",
    "version": 3
   },
   "file_extension": ".py",
   "mimetype": "text/x-python",
   "name": "python",
   "nbconvert_exporter": "python",
   "pygments_lexer": "ipython3",
   "version": "3.8.12"
  },
  "latex_envs": {
   "LaTeX_envs_menu_present": true,
   "autoclose": false,
   "autocomplete": true,
   "bibliofile": "biblio.bib",
   "cite_by": "apalike",
   "current_citInitial": 1,
   "eqLabelWithNumbers": true,
   "eqNumInitial": 1,
   "hotkeys": {
    "equation": "Ctrl-E",
    "itemize": "Ctrl-I"
   },
   "labels_anchors": false,
   "latex_user_defs": false,
   "report_style_numbering": false,
   "user_envs_cfg": false
  }
 },
 "nbformat": 4,
 "nbformat_minor": 5
}
