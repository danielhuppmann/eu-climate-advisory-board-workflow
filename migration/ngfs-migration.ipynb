{
 "cells": [
  {
   "cell_type": "code",
   "execution_count": 1,
   "id": "c3ec7e94",
   "metadata": {},
   "outputs": [
    {
     "data": {
      "application/javascript": [
       "if (typeof IPython !== 'undefined') { IPython.OutputArea.prototype._should_scroll = function(lines){ return false; }}"
      ],
      "text/plain": [
       "<IPython.core.display.Javascript object>"
      ]
     },
     "metadata": {},
     "output_type": "display_data"
    }
   ],
   "source": [
    "import ixmp\n",
    "import pyam\n",
    "import nomenclature\n",
    "import yaml"
   ]
  },
  {
   "cell_type": "code",
   "execution_count": 17,
   "id": "e9e9a5cf",
   "metadata": {},
   "outputs": [],
   "source": [
    "eu_climate = ixmp.Platform(\"eu-climate-submission\")"
   ]
  },
  {
   "cell_type": "code",
   "execution_count": 70,
   "id": "6b98a636",
   "metadata": {},
   "outputs": [],
   "source": [
    "eu_climate_dsd = nomenclature.DataStructureDefinition(\"../definitions/\")\n",
    "eu27_processor = nomenclature.RegionProcessor.from_directory(\"../mappings_eu27/\")\n",
    "\n",
    "eu27_uk_countries = (\n",
    "    eu27_processor.mappings[\"MESSAGEix-GLOBIOM 1.1-M-R12\"]\n",
    "    .common_regions[1]\n",
    "    .constituent_regions\n",
    ")"
   ]
  },
  {
   "cell_type": "code",
   "execution_count": 4,
   "id": "5f95a6bb",
   "metadata": {
    "scrolled": false
   },
   "outputs": [],
   "source": [
    "ngfs_public = ixmp.Platform(\"ngfs-phase3\")"
   ]
  },
  {
   "cell_type": "code",
   "execution_count": 5,
   "id": "25eaae88",
   "metadata": {},
   "outputs": [],
   "source": [
    "ngs_public_scenarios = ngfs_public.scenario_list()"
   ]
  },
  {
   "cell_type": "code",
   "execution_count": 10,
   "id": "533e9969",
   "metadata": {},
   "outputs": [
    {
     "data": {
      "text/plain": [
       "['Downscaling [GCAM 5.3+ NGFS]',\n",
       " 'Downscaling [MESSAGEix-GLOBIOM 1.1-M-R12]',\n",
       " 'Downscaling [REMIND-MAgPIE 3.0-4.4]',\n",
       " 'GCAM 5.3+ NGFS',\n",
       " 'MESSAGEix-GLOBIOM 1.1-M-R12',\n",
       " 'NiGEM NGFS v1.22',\n",
       " 'NiGEM NGFS v1.22 [GCAM 5.3+ NGFS]',\n",
       " 'NiGEM NGFS v1.22 [MESSAGEix-GLOBIOM 1.1-M-R12]',\n",
       " 'NiGEM NGFS v1.22 [REMIND-MAgPIE 3.0-4.4]',\n",
       " 'REMIND-MAgPIE 3.0-4.4',\n",
       " 'REMIND-MAgPIE 3.0-4.4 IntegratedPhysicalDamages (95th-high)',\n",
       " 'REMIND-MAgPIE 3.0-4.4 IntegratedPhysicalDamages (median)']"
      ]
     },
     "execution_count": 10,
     "metadata": {},
     "output_type": "execute_result"
    }
   ],
   "source": [
    "list(ngs_public_scenarios.model.unique())"
   ]
  },
  {
   "cell_type": "code",
   "execution_count": 7,
   "id": "f2ee91dc",
   "metadata": {},
   "outputs": [
    {
     "data": {
      "text/plain": [
       "array(['Below 2°C', 'Current Policies', 'Delayed transition',\n",
       "       'Divergent Net Zero', 'Nationally Determined Contributions (NDCs)',\n",
       "       'Net Zero 2050', 'Baseline'], dtype=object)"
      ]
     },
     "execution_count": 7,
     "metadata": {},
     "output_type": "execute_result"
    }
   ],
   "source": [
    "ngs_public_scenarios.scenario.unique()"
   ]
  },
  {
   "cell_type": "code",
   "execution_count": 93,
   "id": "47ab4dc3",
   "metadata": {},
   "outputs": [],
   "source": [
    "model = \"GCAM 5.3+ NGFS\"\n",
    "ngs_public_scenarios[ngs_public_scenarios.model == model]\n",
    "scenarios = ngs_public_scenarios[ngs_public_scenarios.model == model].scenario.unique()"
   ]
  },
  {
   "cell_type": "code",
   "execution_count": 94,
   "id": "21f07856",
   "metadata": {},
   "outputs": [
    {
     "data": {
      "text/plain": [
       "array(['Below 2°C', 'Current Policies', 'Delayed transition',\n",
       "       'Divergent Net Zero', 'Nationally Determined Contributions (NDCs)',\n",
       "       'Net Zero 2050'], dtype=object)"
      ]
     },
     "execution_count": 94,
     "metadata": {},
     "output_type": "execute_result"
    }
   ],
   "source": [
    "scenarios"
   ]
  },
  {
   "cell_type": "code",
   "execution_count": 97,
   "id": "2083101c",
   "metadata": {},
   "outputs": [
    {
     "name": "stderr",
     "output_type": "stream",
     "text": [
      "2023-01-09 18:45:48 INFO     Applying region-processing for model GCAM 5.3+ NGFS from file ..\\mappings_eu27\\downscaled_eu27.yaml\n",
      "2023-01-09 18:45:48 INFO     Could not aggregate 'Price|Agriculture|Corn|Index' for region 'EU27' ({'weight': 'Agricultural Production|Non-Energy|Crops'})\n",
      "2023-01-09 18:45:48 INFO     Could not aggregate 'Price|Agriculture|Non-Energy Crops|Index' for region 'EU27' ({'weight': 'Agricultural Production|Non-Energy|Crops'})\n",
      "2023-01-09 18:45:48 INFO     Could not aggregate 'Price|Agriculture|Soybean|Index' for region 'EU27' ({'weight': 'Agricultural Production|Non-Energy|Crops'})\n",
      "2023-01-09 18:45:48 INFO     Could not aggregate 'Price|Agriculture|Wheat|Index' for region 'EU27' ({'weight': 'Agricultural Production|Non-Energy|Crops'})\n",
      "2023-01-09 18:45:48 INFO     Could not aggregate 'Price|Carbon' for region 'EU27' ({'weight': 'Emissions|CO2'})\n",
      "2023-01-09 18:45:48 INFO     Could not aggregate 'Price|Final Energy|Residential and Commercial|Residential|Electricity' for region 'EU27' ({'weight': 'Final Energy|Residential and Commercial|Residential|Electricity'})\n",
      "2023-01-09 18:45:48 INFO     Could not aggregate 'Price|Secondary Energy|Hydrogen' for region 'EU27' ({'weight': 'Secondary Energy|Hydrogen'})\n",
      "2023-01-09 18:45:49 INFO     Could not aggregate 'Price|Agriculture|Corn|Index' for region 'EU27 & UK' ({'weight': 'Agricultural Production|Non-Energy|Crops'})\n",
      "2023-01-09 18:45:49 INFO     Could not aggregate 'Price|Agriculture|Non-Energy Crops|Index' for region 'EU27 & UK' ({'weight': 'Agricultural Production|Non-Energy|Crops'})\n",
      "2023-01-09 18:45:49 INFO     Could not aggregate 'Price|Agriculture|Soybean|Index' for region 'EU27 & UK' ({'weight': 'Agricultural Production|Non-Energy|Crops'})\n",
      "2023-01-09 18:45:49 INFO     Could not aggregate 'Price|Agriculture|Wheat|Index' for region 'EU27 & UK' ({'weight': 'Agricultural Production|Non-Energy|Crops'})\n",
      "2023-01-09 18:45:49 INFO     Could not aggregate 'Price|Carbon' for region 'EU27 & UK' ({'weight': 'Emissions|CO2'})\n",
      "2023-01-09 18:45:49 INFO     Could not aggregate 'Price|Final Energy|Residential and Commercial|Residential|Electricity' for region 'EU27 & UK' ({'weight': 'Final Energy|Residential and Commercial|Residential|Electricity'})\n",
      "2023-01-09 18:45:49 INFO     Could not aggregate 'Price|Secondary Energy|Hydrogen' for region 'EU27 & UK' ({'weight': 'Secondary Energy|Hydrogen'})\n"
     ]
    },
    {
     "name": "stdout",
     "output_type": "stream",
     "text": [
      "Model GCAM 5.3+ NGFS - Scenario Below 2°C\n"
     ]
    },
    {
     "name": "stderr",
     "output_type": "stream",
     "text": [
      "2023-01-09 18:47:14 INFO     Applying region-processing for model GCAM 5.3+ NGFS from file ..\\mappings_eu27\\downscaled_eu27.yaml\n",
      "2023-01-09 18:47:14 INFO     Could not aggregate 'Price|Agriculture|Corn|Index' for region 'EU27' ({'weight': 'Agricultural Production|Non-Energy|Crops'})\n",
      "2023-01-09 18:47:14 INFO     Could not aggregate 'Price|Agriculture|Non-Energy Crops|Index' for region 'EU27' ({'weight': 'Agricultural Production|Non-Energy|Crops'})\n",
      "2023-01-09 18:47:14 INFO     Could not aggregate 'Price|Agriculture|Soybean|Index' for region 'EU27' ({'weight': 'Agricultural Production|Non-Energy|Crops'})\n",
      "2023-01-09 18:47:14 INFO     Could not aggregate 'Price|Agriculture|Wheat|Index' for region 'EU27' ({'weight': 'Agricultural Production|Non-Energy|Crops'})\n",
      "2023-01-09 18:47:14 INFO     Could not aggregate 'Price|Carbon' for region 'EU27' ({'weight': 'Emissions|CO2'})\n",
      "2023-01-09 18:47:14 INFO     Could not aggregate 'Price|Final Energy|Residential and Commercial|Residential|Electricity' for region 'EU27' ({'weight': 'Final Energy|Residential and Commercial|Residential|Electricity'})\n",
      "2023-01-09 18:47:14 INFO     Could not aggregate 'Price|Secondary Energy|Hydrogen' for region 'EU27' ({'weight': 'Secondary Energy|Hydrogen'})\n",
      "2023-01-09 18:47:15 INFO     Could not aggregate 'Price|Agriculture|Corn|Index' for region 'EU27 & UK' ({'weight': 'Agricultural Production|Non-Energy|Crops'})\n",
      "2023-01-09 18:47:15 INFO     Could not aggregate 'Price|Agriculture|Non-Energy Crops|Index' for region 'EU27 & UK' ({'weight': 'Agricultural Production|Non-Energy|Crops'})\n",
      "2023-01-09 18:47:15 INFO     Could not aggregate 'Price|Agriculture|Soybean|Index' for region 'EU27 & UK' ({'weight': 'Agricultural Production|Non-Energy|Crops'})\n",
      "2023-01-09 18:47:15 INFO     Could not aggregate 'Price|Agriculture|Wheat|Index' for region 'EU27 & UK' ({'weight': 'Agricultural Production|Non-Energy|Crops'})\n",
      "2023-01-09 18:47:15 INFO     Could not aggregate 'Price|Carbon' for region 'EU27 & UK' ({'weight': 'Emissions|CO2'})\n",
      "2023-01-09 18:47:15 INFO     Could not aggregate 'Price|Final Energy|Residential and Commercial|Residential|Electricity' for region 'EU27 & UK' ({'weight': 'Final Energy|Residential and Commercial|Residential|Electricity'})\n",
      "2023-01-09 18:47:15 INFO     Could not aggregate 'Price|Secondary Energy|Hydrogen' for region 'EU27 & UK' ({'weight': 'Secondary Energy|Hydrogen'})\n"
     ]
    },
    {
     "name": "stdout",
     "output_type": "stream",
     "text": [
      "Model GCAM 5.3+ NGFS - Scenario Current Policies\n"
     ]
    },
    {
     "name": "stderr",
     "output_type": "stream",
     "text": [
      "2023-01-09 18:48:41 INFO     Applying region-processing for model GCAM 5.3+ NGFS from file ..\\mappings_eu27\\downscaled_eu27.yaml\n",
      "2023-01-09 18:48:42 INFO     Could not aggregate 'Price|Agriculture|Corn|Index' for region 'EU27' ({'weight': 'Agricultural Production|Non-Energy|Crops'})\n",
      "2023-01-09 18:48:42 INFO     Could not aggregate 'Price|Agriculture|Non-Energy Crops|Index' for region 'EU27' ({'weight': 'Agricultural Production|Non-Energy|Crops'})\n",
      "2023-01-09 18:48:42 INFO     Could not aggregate 'Price|Agriculture|Soybean|Index' for region 'EU27' ({'weight': 'Agricultural Production|Non-Energy|Crops'})\n",
      "2023-01-09 18:48:42 INFO     Could not aggregate 'Price|Agriculture|Wheat|Index' for region 'EU27' ({'weight': 'Agricultural Production|Non-Energy|Crops'})\n",
      "2023-01-09 18:48:42 INFO     Could not aggregate 'Price|Carbon' for region 'EU27' ({'weight': 'Emissions|CO2'})\n",
      "2023-01-09 18:48:42 INFO     Could not aggregate 'Price|Final Energy|Residential and Commercial|Residential|Electricity' for region 'EU27' ({'weight': 'Final Energy|Residential and Commercial|Residential|Electricity'})\n",
      "2023-01-09 18:48:42 INFO     Could not aggregate 'Price|Secondary Energy|Hydrogen' for region 'EU27' ({'weight': 'Secondary Energy|Hydrogen'})\n",
      "2023-01-09 18:48:43 INFO     Could not aggregate 'Price|Agriculture|Corn|Index' for region 'EU27 & UK' ({'weight': 'Agricultural Production|Non-Energy|Crops'})\n",
      "2023-01-09 18:48:43 INFO     Could not aggregate 'Price|Agriculture|Non-Energy Crops|Index' for region 'EU27 & UK' ({'weight': 'Agricultural Production|Non-Energy|Crops'})\n",
      "2023-01-09 18:48:43 INFO     Could not aggregate 'Price|Agriculture|Soybean|Index' for region 'EU27 & UK' ({'weight': 'Agricultural Production|Non-Energy|Crops'})\n",
      "2023-01-09 18:48:43 INFO     Could not aggregate 'Price|Agriculture|Wheat|Index' for region 'EU27 & UK' ({'weight': 'Agricultural Production|Non-Energy|Crops'})\n",
      "2023-01-09 18:48:43 INFO     Could not aggregate 'Price|Carbon' for region 'EU27 & UK' ({'weight': 'Emissions|CO2'})\n",
      "2023-01-09 18:48:43 INFO     Could not aggregate 'Price|Final Energy|Residential and Commercial|Residential|Electricity' for region 'EU27 & UK' ({'weight': 'Final Energy|Residential and Commercial|Residential|Electricity'})\n",
      "2023-01-09 18:48:43 INFO     Could not aggregate 'Price|Secondary Energy|Hydrogen' for region 'EU27 & UK' ({'weight': 'Secondary Energy|Hydrogen'})\n"
     ]
    },
    {
     "name": "stdout",
     "output_type": "stream",
     "text": [
      "Model GCAM 5.3+ NGFS - Scenario Delayed transition\n"
     ]
    },
    {
     "name": "stderr",
     "output_type": "stream",
     "text": [
      "2023-01-09 18:50:08 INFO     Applying region-processing for model GCAM 5.3+ NGFS from file ..\\mappings_eu27\\downscaled_eu27.yaml\n",
      "2023-01-09 18:50:08 INFO     Could not aggregate 'Price|Agriculture|Corn|Index' for region 'EU27' ({'weight': 'Agricultural Production|Non-Energy|Crops'})\n",
      "2023-01-09 18:50:08 INFO     Could not aggregate 'Price|Agriculture|Non-Energy Crops|Index' for region 'EU27' ({'weight': 'Agricultural Production|Non-Energy|Crops'})\n",
      "2023-01-09 18:50:08 INFO     Could not aggregate 'Price|Agriculture|Soybean|Index' for region 'EU27' ({'weight': 'Agricultural Production|Non-Energy|Crops'})\n",
      "2023-01-09 18:50:08 INFO     Could not aggregate 'Price|Agriculture|Wheat|Index' for region 'EU27' ({'weight': 'Agricultural Production|Non-Energy|Crops'})\n",
      "2023-01-09 18:50:08 INFO     Could not aggregate 'Price|Carbon' for region 'EU27' ({'weight': 'Emissions|CO2'})\n",
      "2023-01-09 18:50:08 INFO     Could not aggregate 'Price|Final Energy|Residential and Commercial|Residential|Electricity' for region 'EU27' ({'weight': 'Final Energy|Residential and Commercial|Residential|Electricity'})\n",
      "2023-01-09 18:50:08 INFO     Could not aggregate 'Price|Secondary Energy|Hydrogen' for region 'EU27' ({'weight': 'Secondary Energy|Hydrogen'})\n",
      "2023-01-09 18:50:09 INFO     Could not aggregate 'Price|Agriculture|Corn|Index' for region 'EU27 & UK' ({'weight': 'Agricultural Production|Non-Energy|Crops'})\n",
      "2023-01-09 18:50:09 INFO     Could not aggregate 'Price|Agriculture|Non-Energy Crops|Index' for region 'EU27 & UK' ({'weight': 'Agricultural Production|Non-Energy|Crops'})\n",
      "2023-01-09 18:50:09 INFO     Could not aggregate 'Price|Agriculture|Soybean|Index' for region 'EU27 & UK' ({'weight': 'Agricultural Production|Non-Energy|Crops'})\n",
      "2023-01-09 18:50:09 INFO     Could not aggregate 'Price|Agriculture|Wheat|Index' for region 'EU27 & UK' ({'weight': 'Agricultural Production|Non-Energy|Crops'})\n",
      "2023-01-09 18:50:09 INFO     Could not aggregate 'Price|Carbon' for region 'EU27 & UK' ({'weight': 'Emissions|CO2'})\n",
      "2023-01-09 18:50:09 INFO     Could not aggregate 'Price|Final Energy|Residential and Commercial|Residential|Electricity' for region 'EU27 & UK' ({'weight': 'Final Energy|Residential and Commercial|Residential|Electricity'})\n",
      "2023-01-09 18:50:09 INFO     Could not aggregate 'Price|Secondary Energy|Hydrogen' for region 'EU27 & UK' ({'weight': 'Secondary Energy|Hydrogen'})\n"
     ]
    },
    {
     "name": "stdout",
     "output_type": "stream",
     "text": [
      "Model GCAM 5.3+ NGFS - Scenario Divergent Net Zero\n"
     ]
    },
    {
     "name": "stderr",
     "output_type": "stream",
     "text": [
      "2023-01-09 18:51:34 INFO     Applying region-processing for model GCAM 5.3+ NGFS from file ..\\mappings_eu27\\downscaled_eu27.yaml\n",
      "2023-01-09 18:51:35 INFO     Could not aggregate 'Price|Agriculture|Corn|Index' for region 'EU27' ({'weight': 'Agricultural Production|Non-Energy|Crops'})\n",
      "2023-01-09 18:51:35 INFO     Could not aggregate 'Price|Agriculture|Non-Energy Crops|Index' for region 'EU27' ({'weight': 'Agricultural Production|Non-Energy|Crops'})\n",
      "2023-01-09 18:51:35 INFO     Could not aggregate 'Price|Agriculture|Soybean|Index' for region 'EU27' ({'weight': 'Agricultural Production|Non-Energy|Crops'})\n",
      "2023-01-09 18:51:35 INFO     Could not aggregate 'Price|Agriculture|Wheat|Index' for region 'EU27' ({'weight': 'Agricultural Production|Non-Energy|Crops'})\n",
      "2023-01-09 18:51:35 INFO     Could not aggregate 'Price|Carbon' for region 'EU27' ({'weight': 'Emissions|CO2'})\n",
      "2023-01-09 18:51:35 INFO     Could not aggregate 'Price|Final Energy|Residential and Commercial|Residential|Electricity' for region 'EU27' ({'weight': 'Final Energy|Residential and Commercial|Residential|Electricity'})\n",
      "2023-01-09 18:51:35 INFO     Could not aggregate 'Price|Secondary Energy|Hydrogen' for region 'EU27' ({'weight': 'Secondary Energy|Hydrogen'})\n",
      "2023-01-09 18:51:36 INFO     Could not aggregate 'Price|Agriculture|Corn|Index' for region 'EU27 & UK' ({'weight': 'Agricultural Production|Non-Energy|Crops'})\n",
      "2023-01-09 18:51:36 INFO     Could not aggregate 'Price|Agriculture|Non-Energy Crops|Index' for region 'EU27 & UK' ({'weight': 'Agricultural Production|Non-Energy|Crops'})\n",
      "2023-01-09 18:51:36 INFO     Could not aggregate 'Price|Agriculture|Soybean|Index' for region 'EU27 & UK' ({'weight': 'Agricultural Production|Non-Energy|Crops'})\n",
      "2023-01-09 18:51:36 INFO     Could not aggregate 'Price|Agriculture|Wheat|Index' for region 'EU27 & UK' ({'weight': 'Agricultural Production|Non-Energy|Crops'})\n",
      "2023-01-09 18:51:36 INFO     Could not aggregate 'Price|Carbon' for region 'EU27 & UK' ({'weight': 'Emissions|CO2'})\n",
      "2023-01-09 18:51:36 INFO     Could not aggregate 'Price|Final Energy|Residential and Commercial|Residential|Electricity' for region 'EU27 & UK' ({'weight': 'Final Energy|Residential and Commercial|Residential|Electricity'})\n",
      "2023-01-09 18:51:36 INFO     Could not aggregate 'Price|Secondary Energy|Hydrogen' for region 'EU27 & UK' ({'weight': 'Secondary Energy|Hydrogen'})\n"
     ]
    },
    {
     "name": "stdout",
     "output_type": "stream",
     "text": [
      "Model GCAM 5.3+ NGFS - Scenario Nationally Determined Contributions (NDCs)\n"
     ]
    },
    {
     "name": "stderr",
     "output_type": "stream",
     "text": [
      "2023-01-09 18:53:01 INFO     Applying region-processing for model GCAM 5.3+ NGFS from file ..\\mappings_eu27\\downscaled_eu27.yaml\n",
      "2023-01-09 18:53:01 INFO     Could not aggregate 'Price|Agriculture|Corn|Index' for region 'EU27' ({'weight': 'Agricultural Production|Non-Energy|Crops'})\n",
      "2023-01-09 18:53:01 INFO     Could not aggregate 'Price|Agriculture|Non-Energy Crops|Index' for region 'EU27' ({'weight': 'Agricultural Production|Non-Energy|Crops'})\n",
      "2023-01-09 18:53:01 INFO     Could not aggregate 'Price|Agriculture|Soybean|Index' for region 'EU27' ({'weight': 'Agricultural Production|Non-Energy|Crops'})\n",
      "2023-01-09 18:53:01 INFO     Could not aggregate 'Price|Agriculture|Wheat|Index' for region 'EU27' ({'weight': 'Agricultural Production|Non-Energy|Crops'})\n",
      "2023-01-09 18:53:01 INFO     Could not aggregate 'Price|Carbon' for region 'EU27' ({'weight': 'Emissions|CO2'})\n",
      "2023-01-09 18:53:01 INFO     Could not aggregate 'Price|Final Energy|Residential and Commercial|Residential|Electricity' for region 'EU27' ({'weight': 'Final Energy|Residential and Commercial|Residential|Electricity'})\n",
      "2023-01-09 18:53:02 INFO     Could not aggregate 'Price|Secondary Energy|Hydrogen' for region 'EU27' ({'weight': 'Secondary Energy|Hydrogen'})\n",
      "2023-01-09 18:53:02 INFO     Could not aggregate 'Price|Agriculture|Corn|Index' for region 'EU27 & UK' ({'weight': 'Agricultural Production|Non-Energy|Crops'})\n",
      "2023-01-09 18:53:02 INFO     Could not aggregate 'Price|Agriculture|Non-Energy Crops|Index' for region 'EU27 & UK' ({'weight': 'Agricultural Production|Non-Energy|Crops'})\n",
      "2023-01-09 18:53:02 INFO     Could not aggregate 'Price|Agriculture|Soybean|Index' for region 'EU27 & UK' ({'weight': 'Agricultural Production|Non-Energy|Crops'})\n",
      "2023-01-09 18:53:02 INFO     Could not aggregate 'Price|Agriculture|Wheat|Index' for region 'EU27 & UK' ({'weight': 'Agricultural Production|Non-Energy|Crops'})\n",
      "2023-01-09 18:53:02 INFO     Could not aggregate 'Price|Carbon' for region 'EU27 & UK' ({'weight': 'Emissions|CO2'})\n",
      "2023-01-09 18:53:02 INFO     Could not aggregate 'Price|Final Energy|Residential and Commercial|Residential|Electricity' for region 'EU27 & UK' ({'weight': 'Final Energy|Residential and Commercial|Residential|Electricity'})\n",
      "2023-01-09 18:53:03 INFO     Could not aggregate 'Price|Secondary Energy|Hydrogen' for region 'EU27 & UK' ({'weight': 'Secondary Energy|Hydrogen'})\n"
     ]
    },
    {
     "name": "stdout",
     "output_type": "stream",
     "text": [
      "Model GCAM 5.3+ NGFS - Scenario Net Zero 2050\n",
      "Done!\n"
     ]
    }
   ],
   "source": [
    "for s in scenarios:\n",
    "    scen = ixmp.Scenario(ngfs_public, model=model, scenario=s)\n",
    "    df_native = pyam.IamDataFrame(scen.timeseries())\n",
    "\n",
    "    scen = ixmp.Scenario(ngfs_public, model=f\"Downscaling [{model}]\", scenario=s)\n",
    "    df_downscaled = pyam.IamDataFrame(scen.timeseries())\n",
    "    df_downscaled.rename(model={f\"Downscaling [{model}]\": model}, inplace=True)\n",
    "    df_downscaled.filter(region=eu27_uk_countries, inplace=True)\n",
    "\n",
    "    df_downscaled_eu = eu27_processor.apply(df_downscaled, eu_climate_dsd)\n",
    "    \n",
    "    df = pyam.concat([df_native, df_downscaled, df_downscaled_eu])\n",
    "    \n",
    "    df.filter(variable=eu_climate_dsd.variable, inplace=True)\n",
    "\n",
    "    # MESSAGE \n",
    "    df.filter(variable=[\"Trade\"], keep=False, inplace=True)\n",
    "    df.filter(unit=\"Index (2005 = 1)\", keep=False, inplace=True)\n",
    "\n",
    "    # REMIND\n",
    "    remind_rename_mapping = {\n",
    "        'REMIND-MAgPIE 3.0-4.4|Canada, NZ, Australia':\n",
    "            'REMIND 3.0|Canada, Australia, New Zealand',\n",
    "        'REMIND-MAgPIE 3.0-4.4|China':\n",
    "            'REMIND 3.0|China and Taiwan',\n",
    "        'REMIND-MAgPIE 3.0-4.4|Countries from the Reforming Economies of the Former Soviet Union':\n",
    "            'REMIND 3.0|Russia and Reforming Economies',\n",
    "        'REMIND-MAgPIE 3.0-4.4|EU 28':\n",
    "            'REMIND 3.0|EU 28',\n",
    "        'REMIND-MAgPIE 3.0-4.4|India':\n",
    "            'REMIND 3.0|India',\n",
    "        'REMIND-MAgPIE 3.0-4.4|Japan':\n",
    "            'REMIND 3.0|Japan',\n",
    "        'REMIND-MAgPIE 3.0-4.4|Latin America and the Caribbean':\n",
    "            'REMIND 3.0|Latin America and the Caribbean',\n",
    "        'REMIND-MAgPIE 3.0-4.4|Middle East, North Africa, Central Asia':\n",
    "            'REMIND 3.0|Middle East and North Africa',\n",
    "        'REMIND-MAgPIE 3.0-4.4|Non-EU28 Europe':\n",
    "            'REMIND 3.0|Non-EU28 Europe',\n",
    "        'REMIND-MAgPIE 3.0-4.4|Other Asia':\n",
    "            'REMIND 3.0|Other Asia',\n",
    "        'REMIND-MAgPIE 3.0-4.4|Sub-saharan Africa':\n",
    "            'REMIND 3.0|Sub-Saharan Africa',\n",
    "        'REMIND-MAgPIE 3.0-4.4|United States of America':\n",
    "            'REMIND 3.0|United States of America',\n",
    "    }\n",
    "    df.rename(region=remind_rename_mapping, inplace=True)\n",
    "\n",
    "    df.rename(model={\n",
    "        \"REMIND-MAgPIE 3.0-4.4 IntegratedPhysicalDamages (95th-high)\":\n",
    "            \"REMIND-MAgPIE 3.0-4.4 w/ Integrated Physical Damages (95th-high)\",\n",
    "        \"REMIND-MAgPIE 3.0-4.4 IntegratedPhysicalDamages (median)\":\n",
    "            \"REMIND-MAgPIE 3.0-4.4 w/ Integrated Physical Damages (median)\"\n",
    "    }, inplace=True)\n",
    "\n",
    "    # GCAM\n",
    "    gcam_region_rename_mapping = dict([\n",
    "        (i, i.replace(\"GCAM 5.3+ NGFS\", \"GCAM 5.3\")) for i in df.region if \"GCAM 5.3\" in i\n",
    "    ])\n",
    "\n",
    "    df.rename(region={\n",
    "        \"GCAM 5.3|Australia_NZ\": \"GCAM 5.3|Australia and New Zealand\",\n",
    "        \"GCAM 5.3|EU-12\": \"GCAM 5.3|Eastern EU\",\n",
    "        \"GCAM 5.3|EU-15\": \"GCAM 5.3|Western EU & UK\"\n",
    "    }, inplace=True)\n",
    "    df.rename(region=gcam_region_rename_mapping, inplace=True)\n",
    "\n",
    "    # downselect to known regions\n",
    "    df.filter(region=eu_climate_dsd.region, inplace=True)\n",
    "\n",
    "    eu_climate_dsd.validate(df)\n",
    "\n",
    "    # initialize scenario and add timeseries data\n",
    "    scen = ixmp.Scenario(eu_climate, df.model[0], s, version=\"new\")\n",
    "    scen.add_timeseries(df.data)\n",
    "    scen.commit(f\"Migrated from the database of the NGFS Phase 3 scenario ensemble\")\n",
    "    scen.set_as_default()\n",
    "\n",
    "    scen.set_meta({\"Source\": \"NGFS Phase 3\"})\n",
    "\n",
    "    print(f\"Model {model} - Scenario {s}\" )\n",
    "\n",
    "print(\"Done!\")   "
   ]
  },
  {
   "cell_type": "code",
   "execution_count": 96,
   "id": "711a4fca",
   "metadata": {},
   "outputs": [
    {
     "data": {
      "text/plain": [
       "['Argentina',\n",
       " 'Asia (R5)',\n",
       " 'Austria',\n",
       " 'Belgium',\n",
       " 'Bulgaria',\n",
       " 'Canada',\n",
       " 'Colombia',\n",
       " 'Croatia',\n",
       " 'Cyprus',\n",
       " 'Czech Republic',\n",
       " 'Denmark',\n",
       " 'EU',\n",
       " 'EU27',\n",
       " 'EU27 & UK',\n",
       " 'Estonia',\n",
       " 'Federative Republic of Brazil',\n",
       " 'Finland',\n",
       " 'France',\n",
       " 'GCAM 5.3|Africa_Eastern',\n",
       " 'GCAM 5.3|Africa_Northern',\n",
       " 'GCAM 5.3|Africa_Southern',\n",
       " 'GCAM 5.3|Africa_Western',\n",
       " 'GCAM 5.3|Argentina',\n",
       " 'GCAM 5.3|Australia and New Zealand',\n",
       " 'GCAM 5.3|Brazil',\n",
       " 'GCAM 5.3|Canada',\n",
       " 'GCAM 5.3|Central America and Caribbean',\n",
       " 'GCAM 5.3|Central Asia',\n",
       " 'GCAM 5.3|China',\n",
       " 'GCAM 5.3|Colombia',\n",
       " 'GCAM 5.3|Eastern EU',\n",
       " 'GCAM 5.3|Western EU & UK',\n",
       " 'GCAM 5.3|Europe_Eastern',\n",
       " 'GCAM 5.3|Europe_Non_EU',\n",
       " 'GCAM 5.3|European Free Trade Association',\n",
       " 'GCAM 5.3|India',\n",
       " 'GCAM 5.3|Indonesia',\n",
       " 'GCAM 5.3|Japan',\n",
       " 'GCAM 5.3|Mexico',\n",
       " 'GCAM 5.3|Middle East',\n",
       " 'GCAM 5.3|Pakistan',\n",
       " 'GCAM 5.3|Russia',\n",
       " 'GCAM 5.3|South Africa',\n",
       " 'GCAM 5.3|South America_Northern',\n",
       " 'GCAM 5.3|South America_Southern',\n",
       " 'GCAM 5.3|South Asia',\n",
       " 'GCAM 5.3|South Korea',\n",
       " 'GCAM 5.3|Southeast Asia',\n",
       " 'GCAM 5.3|Taiwan',\n",
       " 'GCAM 5.3|USA',\n",
       " 'Germany',\n",
       " 'Greece',\n",
       " 'Hungary',\n",
       " 'Indonesia',\n",
       " 'Ireland',\n",
       " 'Italy',\n",
       " 'Korea, Republic of',\n",
       " 'Latin America (R5)',\n",
       " 'Latvia',\n",
       " 'Lithuania',\n",
       " 'Luxembourg',\n",
       " 'Malta',\n",
       " 'Middle East & Africa (R5)',\n",
       " 'OECD & EU (R5)',\n",
       " 'Pakistan',\n",
       " \"People's Republic of China\",\n",
       " 'Poland',\n",
       " 'Portugal',\n",
       " 'Reforming Economies (R5)',\n",
       " 'Republic of India',\n",
       " 'Romania',\n",
       " 'Russian Federation',\n",
       " 'Slovakia',\n",
       " 'Slovenia',\n",
       " 'South Africa',\n",
       " 'Spain',\n",
       " 'State of Japan',\n",
       " 'Sweden',\n",
       " 'Taiwan',\n",
       " 'United Kingdom',\n",
       " 'United Mexican States',\n",
       " 'United States of America',\n",
       " 'World']"
      ]
     },
     "execution_count": 96,
     "metadata": {},
     "output_type": "execute_result"
    }
   ],
   "source": [
    "df.region"
   ]
  },
  {
   "cell_type": "code",
   "execution_count": null,
   "id": "577b094a",
   "metadata": {},
   "outputs": [],
   "source": [
    "x = pyam.IamDataFrame(scen.timeseries())"
   ]
  },
  {
   "cell_type": "code",
   "execution_count": null,
   "id": "bf571820",
   "metadata": {},
   "outputs": [],
   "source": [
    "x = pyam.IamDataFrame(\n",
    "    ixmp.Scenario(mp=eu_climate, model=\"REMIND-MAgPIE 3.0-4.4\", scenario=\"Below 2°C\")\n",
    "    .timeseries()\n",
    ")"
   ]
  },
  {
   "cell_type": "code",
   "execution_count": null,
   "id": "9704eb92",
   "metadata": {},
   "outputs": [],
   "source": [
    "x.region"
   ]
  },
  {
   "cell_type": "code",
   "execution_count": null,
   "id": "cd676f94",
   "metadata": {},
   "outputs": [],
   "source": [
    "# aggregate from countries to \n",
    "\n",
    "eu27_uk_countries = (\n",
    "    eu27_processor.mappings[\"MESSAGEix-GLOBIOM 1.1-M-R12\"]\n",
    "    .common_regions[1]\n",
    "    .constituent_regions\n",
    ")\n",
    "\n",
    "df.append(eu27_processor.apply(df.filter(region=eu27_uk_countries), eu_climate_dsd), inplace=True)"
   ]
  },
  {
   "cell_type": "code",
   "execution_count": null,
   "id": "61a28a03",
   "metadata": {},
   "outputs": [],
   "source": [
    "df.filter(region=eu27_uk_countries)"
   ]
  },
  {
   "cell_type": "code",
   "execution_count": null,
   "id": "c638fa0f",
   "metadata": {},
   "outputs": [],
   "source": [
    "eu27_processor.apply(df.filter(region=eu27_uk_countries), eu_climate_dsd)"
   ]
  },
  {
   "cell_type": "code",
   "execution_count": null,
   "id": "c6a50233",
   "metadata": {},
   "outputs": [],
   "source": [
    "df.model"
   ]
  },
  {
   "cell_type": "code",
   "execution_count": null,
   "id": "978c0187",
   "metadata": {},
   "outputs": [],
   "source": [
    "eu27_processor.mappings.keys()"
   ]
  },
  {
   "cell_type": "code",
   "execution_count": null,
   "id": "7fbd499a",
   "metadata": {},
   "outputs": [],
   "source": [
    "for s in scenarios:\n",
    "    scen = ixmp.Scenario(ngfs_public, model=model, scenario=s)\n",
    "    df = pyam.IamDataFrame(scen.timeseries())\n",
    "\n",
    "    df.filter(region=eu_climate_dsd.region, inplace=True)\n",
    "\n",
    "    # MESSAGE \n",
    "    df.rename(region={\"MESSAGEix-GLOBIOM 1.1-R12|Sub-saharan Africa\": \"MESSAGEix-GLOBIOM 1.1-R12|Sub-Saharan Africa\"}, inplace=True)\n",
    "\n",
    "\n",
    "    df.filter(region=[\"World\", \"MESSAGE*\", \"* (R5)\"] + eur_downscaled, inplace=True)\n",
    "    df.filter(variable=eu_climate_dsd.variable, inplace=True)\n",
    "              \n",
    "    eu27_uk_countries = (\n",
    "        eu27_processor.mappings[\"MESSAGEix-GLOBIOM 1.1\"]\n",
    "        .common_regions[1]\n",
    "        .constituent_regions\n",
    "    )\n",
    "\n",
    "    df.append(eu27_processor.apply(df.filter(region=eu27_uk_countries), eu_climate_dsd), inplace=True)\n",
    "              \n",
    "    df.rename(unit={\n",
    "        \"Mt NOx/yr\": \"Mt NO2/yr\",\n",
    "        \"billion US$2005/yr\": \"billion US$2010/yr\",\n",
    "    }, inplace=True)\n",
    "              \n",
    "    for v in [i for i in df.variable if i.startswith(\"Capacity Additions|Electricity\")]:\n",
    "        df.rename(variable={v: v}, unit={\"GW\": \"GW/yr\"}, inplace=True)\n",
    "    \n",
    "    df.filter(variable=[\n",
    "        \"Capacity Additions|Electricity|Storage Capacity\", \"Price|Agriculture|Non-Energy Crops and Livestock|Index\", \"Price|Agriculture|Non-Energy Crops|Index\"\n",
    "    ], keep=False, inplace=True)\n",
    "              \n",
    "    eu_climate_dsd.validate(df)\n",
    "    \n",
    "    # initialize scenario and add timeseries data\n",
    "    scen = ixmp.Scenario(eu_climate, df.model[0], s, version=\"new\")\n",
    "    scen.add_timeseries(df.data)\n",
    "    scen.commit(f\"Migrated from the database of the NGFS Phase 3 scenario ensemble\")\n",
    "    scen.set_as_default()\n",
    "\n",
    "    scen.set_meta({\"Source\": \"NGFS Phase 3\"})\n",
    "    \n",
    "    print(f\"Model {model_public} - Scenario {s}\" )\n",
    "\n",
    "print(\"Done!\")        "
   ]
  },
  {
   "cell_type": "code",
   "execution_count": null,
   "id": "ad2d1bfa",
   "metadata": {},
   "outputs": [],
   "source": []
  },
  {
   "cell_type": "code",
   "execution_count": null,
   "id": "e03a2e94",
   "metadata": {},
   "outputs": [],
   "source": []
  },
  {
   "cell_type": "markdown",
   "id": "ab06dbdb",
   "metadata": {},
   "source": [
    "# Development section"
   ]
  },
  {
   "cell_type": "code",
   "execution_count": null,
   "id": "c0b6dcff",
   "metadata": {},
   "outputs": [],
   "source": [
    "df = pyam.IamDataFrame(\n",
    "        ixmp.Scenario(mp=ngfs_public, model=\"MESSAGEix-GLOBIOM 1.1\", scenario=\"Current Policies \").timeseries()\n",
    "    )"
   ]
  },
  {
   "cell_type": "code",
   "execution_count": null,
   "id": "7890f40e",
   "metadata": {},
   "outputs": [],
   "source": [
    "eur_downscaled = []\n",
    "\n",
    "for code, attrs in eu_climate_dsd.region.items():\n",
    "    if attrs.hierarchy == \"country\":\n",
    "        d_code = f\"{code} (downscaled)\"\n",
    "        #eu_climate.add_region(d_code, hierarchy=\"country (downscaled)\")\n",
    "        eur_downscaled.append(d_code)"
   ]
  },
  {
   "cell_type": "code",
   "execution_count": null,
   "id": "923abbdb",
   "metadata": {},
   "outputs": [],
   "source": [
    "df.rename(region=region_rename_mapping, inplace=True)\n",
    "\n",
    "# MESSAGE \n",
    "df.rename(region={\"MESSAGEix-GLOBIOM 1.1|Sub-saharan Africa\": \"MESSAGEix-GLOBIOM 1.1|Sub-Saharan Africa\"}, inplace=True)\n"
   ]
  },
  {
   "cell_type": "code",
   "execution_count": null,
   "id": "c91f0db7",
   "metadata": {},
   "outputs": [],
   "source": [
    "list()"
   ]
  },
  {
   "cell_type": "code",
   "execution_count": null,
   "id": "223e3f88",
   "metadata": {},
   "outputs": [],
   "source": [
    "df.filter(region=[\"World\", \"MESSAGE*\", \"* (R5)\"] + eur_downscaled, inplace=True)"
   ]
  },
  {
   "cell_type": "code",
   "execution_count": null,
   "id": "12cb42f1",
   "metadata": {},
   "outputs": [],
   "source": [
    "df.filter(variable=eu_climate_dsd.variable, inplace=True)"
   ]
  },
  {
   "cell_type": "code",
   "execution_count": null,
   "id": "36a56e63",
   "metadata": {},
   "outputs": [],
   "source": [
    "eu27_processor = nomenclature.RegionProcessor.from_directory(\"../mappings_eu27/\")"
   ]
  },
  {
   "cell_type": "code",
   "execution_count": null,
   "id": "62ca4f9c",
   "metadata": {},
   "outputs": [],
   "source": [
    "eu27_uk_countries = (\n",
    "    eu27_processor.mappings[\"MESSAGEix-GLOBIOM 1.1\"]\n",
    "    .common_regions[1]\n",
    "    .constituent_regions\n",
    ")\n",
    "eu27_df = df.filter(region=eu27_uk_countries)"
   ]
  },
  {
   "cell_type": "code",
   "execution_count": null,
   "id": "877bfe2a",
   "metadata": {},
   "outputs": [],
   "source": [
    "df_eu27 = eu27_processor.apply(eu27_df, eu_climate_dsd)"
   ]
  },
  {
   "cell_type": "code",
   "execution_count": null,
   "id": "82bd61ac",
   "metadata": {},
   "outputs": [],
   "source": [
    "df.append(df_eu27, inplace=True)"
   ]
  },
  {
   "cell_type": "code",
   "execution_count": null,
   "id": "3cfede2d",
   "metadata": {},
   "outputs": [],
   "source": [
    "df.rename(unit={\n",
    "    \"Mt NOx/yr\": \"Mt NO2/yr\",\n",
    "    \"billion US$2005/yr\": \"billion US$2010/yr\",\n",
    "}, inplace=True)"
   ]
  },
  {
   "cell_type": "code",
   "execution_count": null,
   "id": "e41c7d06",
   "metadata": {},
   "outputs": [],
   "source": [
    "for v in [i for i in df.variable if i.startswith(\"Capacity Additions|Electricity\")]:\n",
    "    df.rename(variable={v: v}, unit={\"GW\": \"GW/yr\"}, inplace=True)"
   ]
  },
  {
   "cell_type": "code",
   "execution_count": null,
   "id": "962a7e34",
   "metadata": {},
   "outputs": [],
   "source": [
    "df.filter(variable=[\n",
    "    \"Capacity Additions|Electricity|Storage Capacity\", \"Price|Agriculture|Non-Energy Crops and Livestock|Index\", \"Price|Agriculture|Non-Energy Crops|Index\"\n",
    "], keep=False, inplace=True)"
   ]
  },
  {
   "cell_type": "code",
   "execution_count": null,
   "id": "7afbe45e",
   "metadata": {},
   "outputs": [],
   "source": [
    "eu_climate_dsd.validate(df)"
   ]
  },
  {
   "cell_type": "code",
   "execution_count": null,
   "id": "5ce6aeb4",
   "metadata": {},
   "outputs": [],
   "source": [
    "scenario_selection = [[(m, s) for s in scenario_mapping[m]] for m in scenario_mapping.keys()][0]"
   ]
  },
  {
   "cell_type": "code",
   "execution_count": null,
   "id": "a8ab7398",
   "metadata": {},
   "outputs": [],
   "source": [
    "scenario_selection"
   ]
  },
  {
   "cell_type": "code",
   "execution_count": null,
   "id": "260b607d",
   "metadata": {},
   "outputs": [],
   "source": [
    "scenario_list = [\n",
    "    pyam.IamDataFrame(\n",
    "        ixmp.Scenario(mp=source_db, model=m, scenario=s).timeseries()\n",
    "    )\n",
    "    for (m, s) in scenario_selection\n",
    "]\n",
    "df = pyam.concat(scenario_list)"
   ]
  },
  {
   "cell_type": "code",
   "execution_count": null,
   "id": "ed646697",
   "metadata": {},
   "outputs": [],
   "source": [
    "df.region"
   ]
  },
  {
   "cell_type": "code",
   "execution_count": null,
   "id": "1349dae1",
   "metadata": {},
   "outputs": [],
   "source": [
    "remind_mapping = {}\n",
    "for key, value in eu_climate_rp.mappings[\"REMIND 2.1\"].rename_mapping.items():\n",
    "    remind_mapping[f\"REMIND 2.1|{key}\"] = value"
   ]
  },
  {
   "cell_type": "code",
   "execution_count": null,
   "id": "78ef6ea4",
   "metadata": {},
   "outputs": [],
   "source": [
    "image_mapping = {}\n",
    "for key, value in eu_climate_rp.mappings[\"IMAGE 3.2\"].rename_mapping.items():\n",
    "    remind_mapping[f\"IMAGE 3.2|{key}\"] = value"
   ]
  },
  {
   "cell_type": "code",
   "execution_count": null,
   "id": "f44aa183",
   "metadata": {},
   "outputs": [],
   "source": [
    "df.rename(region=remind_mapping, inplace=True)"
   ]
  },
  {
   "cell_type": "code",
   "execution_count": null,
   "id": "155d4799",
   "metadata": {},
   "outputs": [],
   "source": [
    "eu_climate_dsd.validate(df)"
   ]
  },
  {
   "cell_type": "code",
   "execution_count": null,
   "id": "8e961c48",
   "metadata": {},
   "outputs": [],
   "source": [
    "eu_climate = ixmp.Platform(\"eu-climate-submission\")"
   ]
  },
  {
   "cell_type": "code",
   "execution_count": null,
   "id": "b8d2f0c1",
   "metadata": {},
   "outputs": [],
   "source": [
    "for (_model, _scenario) in df.index:\n",
    "    _df = df.filter(model=_model, scenario=_scenario)\n",
    "\n",
    "    # initialize scenario and add timeseries data\n",
    "    scen = ixmp.Scenario(eu_climate, _model, _scenario, version=\"new\")\n",
    "    scen.add_timeseries(_df.data)\n",
    "    scen.commit(f\"Migrated from H2020 ECEMF database\")\n",
    "    scen.set_as_default()\n",
    "\n",
    "    scen.set_meta({\"Source\": \"H2020 ECEMF\"})"
   ]
  },
  {
   "cell_type": "code",
   "execution_count": null,
   "id": "676f0067",
   "metadata": {},
   "outputs": [],
   "source": []
  }
 ],
 "metadata": {
  "kernelspec": {
   "display_name": "Python 3 (ipykernel)",
   "language": "python",
   "name": "python3"
  },
  "language_info": {
   "codemirror_mode": {
    "name": "ipython",
    "version": 3
   },
   "file_extension": ".py",
   "mimetype": "text/x-python",
   "name": "python",
   "nbconvert_exporter": "python",
   "pygments_lexer": "ipython3",
   "version": "3.8.12"
  },
  "latex_envs": {
   "LaTeX_envs_menu_present": true,
   "autoclose": false,
   "autocomplete": true,
   "bibliofile": "biblio.bib",
   "cite_by": "apalike",
   "current_citInitial": 1,
   "eqLabelWithNumbers": true,
   "eqNumInitial": 1,
   "hotkeys": {
    "equation": "Ctrl-E",
    "itemize": "Ctrl-I"
   },
   "labels_anchors": false,
   "latex_user_defs": false,
   "report_style_numbering": false,
   "user_envs_cfg": false
  }
 },
 "nbformat": 4,
 "nbformat_minor": 5
}
