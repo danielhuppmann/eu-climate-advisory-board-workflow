{
 "cells": [
  {
   "cell_type": "code",
   "execution_count": null,
   "id": "c3ec7e94",
   "metadata": {},
   "outputs": [],
   "source": [
    "import ixmp\n",
    "import yaml\n",
    "import pyam\n",
    "import nomenclature"
   ]
  },
  {
   "cell_type": "code",
   "execution_count": null,
   "id": "8e961c48",
   "metadata": {},
   "outputs": [],
   "source": [
    "ar6_public = ixmp.Platform(\"ar6\")\n",
    "ar6_submission = ixmp.Platform(\"ar6-submission\")"
   ]
  },
  {
   "cell_type": "code",
   "execution_count": null,
   "id": "b05f6e29",
   "metadata": {},
   "outputs": [],
   "source": [
    "ar6_public_scenario_list = ar6_public.scenario_list()\n",
    "ar6_submission_scenario_list = ar6_submission.scenario_list()"
   ]
  },
  {
   "cell_type": "code",
   "execution_count": null,
   "id": "588e096f",
   "metadata": {},
   "outputs": [],
   "source": [
    "with open(\"region_rename.yaml\") as f:\n",
    "    region_rename_mapping = yaml.safe_load(f)"
   ]
  },
  {
   "cell_type": "code",
   "execution_count": null,
   "id": "65d20532",
   "metadata": {},
   "outputs": [],
   "source": [
    "eu_climate_dsd = nomenclature.DataStructureDefinition(\"../definitions/\")"
   ]
  },
  {
   "cell_type": "code",
   "execution_count": null,
   "id": "131c42db",
   "metadata": {},
   "outputs": [],
   "source": [
    "eu_climate = ixmp.Platform(\"eu-climate-submission\")"
   ]
  },
  {
   "cell_type": "code",
   "execution_count": null,
   "id": "7e461c5a",
   "metadata": {},
   "outputs": [],
   "source": [
    "ssp_scenarios = (\n",
    "    [f\"SSP1-{x}\" for x in [\"19\", \"26\", \"34\", \"45\", \"Baseline\"]] +\n",
    "    [f\"SSP2-{x}\" for x in [\"19\", \"26\", \"34\", \"45\", \"60\", \"Baseline\"]] +\n",
    "    [f\"SSP3-{x}\" for x in [\"34\", \"45\", \"60\", \"Baseline\"]] +\n",
    "    [f\"SSP4-{x}\" for x in [\"26\", \"34\", \"45\", \"Baseline\"]] +\n",
    "    [f\"SSP5-{x}\" for x in [\"26\", \"34\", \"45\", \"60\", \"Baseline\"]]\n",
    ")\n",
    "\n",
    "_scenarios = ar6_public_scenario_list[[s in ssp_scenarios for s in ar6_public_scenario_list.scenario]]"
   ]
  },
  {
   "cell_type": "code",
   "execution_count": null,
   "id": "99bf7f3e",
   "metadata": {},
   "outputs": [],
   "source": [
    "ar6_submission_scenarios = ar6_submission_scenario_list[[s in ssp_scenarios for s in ar6_submission_scenario_list.scenario]]"
   ]
  },
  {
   "cell_type": "code",
   "execution_count": null,
   "id": "ba072f50",
   "metadata": {},
   "outputs": [],
   "source": [
    "scenario_selection = list()\n",
    "for i, row in _scenarios.iterrows():\n",
    "    scenario_selection.append((row[\"model\"], row[\"scenario\"]))"
   ]
  },
  {
   "cell_type": "code",
   "execution_count": null,
   "id": "4fad083a",
   "metadata": {},
   "outputs": [],
   "source": [
    "scenario_list = [\n",
    "    pyam.IamDataFrame(\n",
    "        ixmp.Scenario(mp=ar6_submission, model=m, scenario=s).timeseries()\n",
    "    )\n",
    "    for (m, s) in scenario_selection\n",
    "]\n",
    "df = pyam.concat(scenario_list)"
   ]
  },
  {
   "cell_type": "code",
   "execution_count": null,
   "id": "da71e188",
   "metadata": {},
   "outputs": [],
   "source": [
    "df.rename(region=region_rename_mapping, inplace=True)"
   ]
  },
  {
   "cell_type": "code",
   "execution_count": null,
   "id": "a6a302dd",
   "metadata": {},
   "outputs": [],
   "source": [
    "df.rename(region={\n",
    "    \"R5OECD90+EU\": \"OECD & EU (R5)\",\n",
    "    \"R5ASIA\": \"Asia (R5)\",\n",
    "    \"R5REF\": \"Reforming Economies (R5)\",\n",
    "    \"R5MAF\": \"Middle East & Africa (R5)\",\n",
    "    \"R5LAM\": \"Latin America (R5)\",\n",
    "}, inplace=True)"
   ]
  },
  {
   "cell_type": "code",
   "execution_count": null,
   "id": "80c73f9e",
   "metadata": {},
   "outputs": [],
   "source": [
    "df.region"
   ]
  },
  {
   "cell_type": "code",
   "execution_count": null,
   "id": "c0d352a5",
   "metadata": {},
   "outputs": [],
   "source": [
    "df.filter(region=[\n",
    "    \"China\", \"India\", \"Japan\", \"Brazil\", \"Mexico\", \n",
    "    \"United States of America\", \"European Union (28 member countries)\",\n",
    "    \"GCAM*\"], keep=False, inplace=True)"
   ]
  },
  {
   "cell_type": "code",
   "execution_count": null,
   "id": "4d7daaf6",
   "metadata": {},
   "outputs": [],
   "source": [
    "df.filter(variable=eu_climate_dsd.variable, inplace=True)"
   ]
  },
  {
   "cell_type": "code",
   "execution_count": null,
   "id": "d73e2e34",
   "metadata": {},
   "outputs": [],
   "source": [
    "eu_climate_dsd.validate(df)"
   ]
  },
  {
   "cell_type": "code",
   "execution_count": null,
   "id": "7c9e1d0d",
   "metadata": {},
   "outputs": [],
   "source": [
    "for (_model, _scenario) in df.index:\n",
    "    _df = df.filter(model=_model, scenario=_scenario)\n",
    "    # initialize scenario and add timeseries data\n",
    "    scen = ixmp.Scenario(eu_climate, _model, _scenario, version=\"new\")\n",
    "    scen.add_timeseries(df.data)\n",
    "    scen.commit(f\"Migrated from the IPCC AR6 database\")\n",
    "    scen.set_as_default()\n",
    "\n",
    "    scen.set_meta({\"Source\": \"SSP (via IPCC AR6)\"})\n",
    "    \n",
    "    print(f\"Model {_model} - Scenario {_scenario}\" )"
   ]
  },
  {
   "cell_type": "code",
   "execution_count": null,
   "id": "676f0067",
   "metadata": {},
   "outputs": [],
   "source": []
  }
 ],
 "metadata": {
  "kernelspec": {
   "display_name": "Python 3 (ipykernel)",
   "language": "python",
   "name": "python3"
  },
  "language_info": {
   "codemirror_mode": {
    "name": "ipython",
    "version": 3
   },
   "file_extension": ".py",
   "mimetype": "text/x-python",
   "name": "python",
   "nbconvert_exporter": "python",
   "pygments_lexer": "ipython3",
   "version": "3.8.12"
  },
  "latex_envs": {
   "LaTeX_envs_menu_present": true,
   "autoclose": false,
   "autocomplete": true,
   "bibliofile": "biblio.bib",
   "cite_by": "apalike",
   "current_citInitial": 1,
   "eqLabelWithNumbers": true,
   "eqNumInitial": 1,
   "hotkeys": {
    "equation": "Ctrl-E",
    "itemize": "Ctrl-I"
   },
   "labels_anchors": false,
   "latex_user_defs": false,
   "report_style_numbering": false,
   "user_envs_cfg": false
  }
 },
 "nbformat": 4,
 "nbformat_minor": 5
}
