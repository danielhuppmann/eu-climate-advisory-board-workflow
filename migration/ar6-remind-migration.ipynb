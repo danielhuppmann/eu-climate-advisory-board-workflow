{
 "cells": [
  {
   "cell_type": "code",
   "execution_count": null,
   "id": "c3ec7e94",
   "metadata": {},
   "outputs": [],
   "source": [
    "import ixmp\n",
    "import yaml\n",
    "import pyam\n",
    "import nomenclature"
   ]
  },
  {
   "cell_type": "code",
   "execution_count": null,
   "id": "8e961c48",
   "metadata": {},
   "outputs": [],
   "source": [
    "ar6_public = ixmp.Platform(\"ar6\")\n",
    "ar6_submission = ixmp.Platform(\"ar6-submission\")"
   ]
  },
  {
   "cell_type": "code",
   "execution_count": null,
   "id": "b05f6e29",
   "metadata": {},
   "outputs": [],
   "source": [
    "ar6_public_scenario_list = ar6_public.scenario_list()\n",
    "ar6_submission_scenario_list = ar6_submission.scenario_list()"
   ]
  },
  {
   "cell_type": "code",
   "execution_count": null,
   "id": "588e096f",
   "metadata": {},
   "outputs": [],
   "source": [
    "with open(\"region_rename.yaml\") as f:\n",
    "    region_rename_mapping = yaml.safe_load(f)"
   ]
  },
  {
   "cell_type": "code",
   "execution_count": null,
   "id": "65d20532",
   "metadata": {},
   "outputs": [],
   "source": [
    "eu_climate_dsd = nomenclature.DataStructureDefinition(\"../definitions/\")"
   ]
  },
  {
   "cell_type": "code",
   "execution_count": null,
   "id": "131c42db",
   "metadata": {},
   "outputs": [],
   "source": [
    "eu_climate = ixmp.Platform(\"eu-climate-submission\")"
   ]
  },
  {
   "cell_type": "code",
   "execution_count": null,
   "id": "481d580d",
   "metadata": {},
   "outputs": [],
   "source": [
    "project = \"SSP\"\n",
    "model = \"REMIND-MAgPIE 1.5\"\n",
    "\n",
    "_scenarios = ar6_public_scenario_list[ar6_public_scenario_list.model == model].scenario\n",
    "\n",
    "#ar6_submission_scenario_list[ar6_submission_scenario_list.model == model].scenario\n",
    "_scenarios"
   ]
  },
  {
   "cell_type": "code",
   "execution_count": null,
   "id": "c275b15b",
   "metadata": {},
   "outputs": [],
   "source": [
    "project = \"CD-LINKS\"\n",
    "model = \"REMIND-MAgPIE 1.7-3.0\"\n",
    "\n",
    "cd_links_scenarios = [\n",
    "    'CD-LINKS_NoPolicy',\n",
    "    'CD-LINKS_INDCi',\n",
    "    'CD-LINKS_INDC2030i_1600',\n",
    "    'CD-LINKS_INDC2030i_1000',\n",
    "    'CD-LINKS_INDC2030i_400',\n",
    "    'CD-LINKS_NDC2030i_1000',\n",
    "    'CD-LINKS_NPi',\n",
    "    'CD-LINKS_NPi2020_1600',\n",
    "    'CD-LINKS_NPi2020_1000',\n",
    "    'CD-LINKS_NPi2020_400',\n",
    " ]\n",
    "\n",
    "_scenarios = ar6_public_scenario_list[ar6_public_scenario_list.model == model].scenario\n",
    "_scenarios = [s for s in _scenarios if s in cd_links_scenarios]\n",
    "\n",
    "#ar6_submission_scenario_list[ar6_submission_scenario_list.model == model].scenario\n",
    "_scenarios"
   ]
  },
  {
   "cell_type": "code",
   "execution_count": null,
   "id": "d5767419",
   "metadata": {},
   "outputs": [],
   "source": [
    "project = \"SHAPE\"\n",
    "model = \"REMIND-MAgPIE 2.1-4.2\"\n",
    "_scenarios = ar6_public_scenario_list[ar6_public_scenario_list.model == model].scenario\n",
    "\n",
    "_scenarios = [s for s in _scenarios if s.startswith(\"SusDev_SSP1\") or s.startswith(\"SusDev_SDP\")]\n",
    "\n",
    "#ar6_submission_scenario_list[ar6_submission_scenario_list.model == model].scenario\n",
    "_scenarios"
   ]
  },
  {
   "cell_type": "code",
   "execution_count": null,
   "id": "ca4a294b",
   "metadata": {},
   "outputs": [],
   "source": [
    "project = \"ARIADNE\"\n",
    "model = \"REMIND-MAgPIE 2.1-4.3\"\n",
    "_scenarios = ar6_public_scenario_list[ar6_public_scenario_list.model == model].scenario\n",
    "ar6_submission_scenario_list[ar6_submission_scenario_list.model == model].scenario"
   ]
  },
  {
   "cell_type": "code",
   "execution_count": null,
   "id": "46dfd61a",
   "metadata": {},
   "outputs": [],
   "source": [
    "project = \"Innopaths\"\n",
    "model = \"REMIND_EU 2.0\"\n",
    "_scenarios = ar6_public_scenario_list[ar6_public_scenario_list.model == model].scenario\n",
    "ar6_submission_scenario_list[ar6_submission_scenario_list.model == model].scenario"
   ]
  },
  {
   "cell_type": "code",
   "execution_count": null,
   "id": "39f01a6a",
   "metadata": {},
   "outputs": [],
   "source": [
    "scenario_selection = list()\n",
    "for s in _scenarios:\n",
    "    scenario_selection.append((model, s))"
   ]
  },
  {
   "cell_type": "code",
   "execution_count": null,
   "id": "4fad083a",
   "metadata": {},
   "outputs": [],
   "source": [
    "scenario_list = [\n",
    "    pyam.IamDataFrame(\n",
    "        ixmp.Scenario(mp=ar6_submission, model=m, scenario=s).timeseries()\n",
    "    )\n",
    "    for (m, s) in scenario_selection\n",
    "]\n",
    "df = pyam.concat(scenario_list)"
   ]
  },
  {
   "cell_type": "code",
   "execution_count": null,
   "id": "da71e188",
   "metadata": {},
   "outputs": [],
   "source": [
    "df.rename(region=region_rename_mapping, inplace=True)"
   ]
  },
  {
   "cell_type": "code",
   "execution_count": null,
   "id": "80c73f9e",
   "metadata": {},
   "outputs": [],
   "source": [
    "df.region"
   ]
  },
  {
   "cell_type": "code",
   "execution_count": null,
   "id": "8c2c3e8e",
   "metadata": {},
   "outputs": [],
   "source": [
    "# REMIND 1.7\n",
    "\n",
    "remind_eu_region_rename_mapping = dict([\n",
    "    (i, i.replace(\"REMIND-MAgPIE 1.7-3.0\", \"REMIND 1.7\")) for i in df.region if \"REMIND\" in i\n",
    "])\n",
    "df.rename(region=remind_eu_region_rename_mapping, inplace=True)\n",
    "\n",
    "remind_region_rename_mapping = {\n",
    "    \"REMIND 2.0|Canada, Australia and New Zealand\":\n",
    "      \"REMIND 2.0|Canada, Australia, New Zealand\",\n",
    "    \"REMIND 2.0|China\":\n",
    "      \"REMIND 2.0|China and Taiwan\",\n",
    "    \"REMIND 2.0|Russia and Reforming Ecomonies\":\n",
    "      \"REMIND 2.0|Russia and Reforming Economies\",\n",
    "    \"REMIND 2.0|Middle East, North Africa, Central Asia\":\n",
    "      \"REMIND 2.0|Middle East and North Africa\",\n",
    "    \"REMIND 2.0|Sub-saharan Africa\":\n",
    "     \"REMIND 2.0|Sub-Saharan Africa\",\n",
    "    \"REMIND 2.0|Other Asian countries\":\n",
    "      \"REMIND 2.0|Other Asia\", \n",
    "    \"REMIND 2.0|European Union Center East countries\":\n",
    "      \"REMIND 2.0|EU Center-East Europe\",\n",
    "    \"REMIND 2.0|European Union Center South\":\n",
    "      \"REMIND 2.0|EU Center-South Europe\",\n",
    "    \"REMIND 2.0|European Union North Center countries\":\n",
    "      \"REMIND 2.0|EU North-Center Europe\",\n",
    "    \"REMIND 2.0|European Union South Center countries\":\n",
    "      \"REMIND 2.0|EU South-Center Europe\",\n",
    "    \"REMIND 2.0|European Union South West countries\":\n",
    "      \"REMIND 2.0|EU South-West Europe\",\n",
    "    \"REMIND 1.7|Sub-saharan Africa (excl. South Africa)\":\n",
    "      \"REMIND 1.7|Sub-Saharan Africa (excl. South Africa)\",\n",
    "    \"REMIND 1.7|other Asia\":\n",
    "      \"REMIND 1.7|Other Asia\",\n",
    "    \"REMIND 1.7|rest of the World (Canada, South Africa, NZ, Australia, Non-EU27 Europe)\":\n",
    "      \"REMIND 1.7|Rest of the World\",\n",
    "}\n",
    "df.rename(region=remind_region_rename_mapping, inplace=True)"
   ]
  },
  {
   "cell_type": "code",
   "execution_count": null,
   "id": "101f0fa7",
   "metadata": {},
   "outputs": [],
   "source": [
    "# REMIND 2.0\n",
    "\n",
    "remind_eu_region_rename_mapping = dict([\n",
    "    (i, i.replace(\"REMIND_EU 2.0\", \"REMIND 2.0\")) for i in df.region if \"REMIND\" in i\n",
    "])\n",
    "df.rename(region=remind_eu_region_rename_mapping, inplace=True)\n",
    "\n",
    "remind_region_rename_mapping = {\n",
    "    \"REMIND 2.0|Canada, Australia and New Zealand\":\n",
    "     \"REMIND 2.0|Canada, Australia, New Zealand\",\n",
    "    \"REMIND 2.0|China\":\n",
    "      \"REMIND 2.0|China and Taiwan\",\n",
    "    \"REMIND 2.0|Russia and Reforming Ecomonies\":\n",
    "      \"REMIND 2.0|Russia and Reforming Economies\",\n",
    "    \"REMIND 2.0|Middle East, North Africa, Central Asia\":\n",
    "      \"REMIND 2.0|Middle East and North Africa\",\n",
    "    \"REMIND 2.0|Sub-saharan Africa\":\n",
    "     \"REMIND 2.0|Sub-Saharan Africa\",\n",
    "    \"REMIND 2.0|Other Asian countries\":\n",
    "      \"REMIND 2.0|Other Asia\", \n",
    "    \"REMIND 2.0|European Union Center East countries\":\n",
    "      \"REMIND 2.0|EU Center-East Europe\",\n",
    "    \"REMIND 2.0|European Union Center South\":\n",
    "      \"REMIND 2.0|EU Center-South Europe\",\n",
    "    \"REMIND 2.0|European Union North Center countries\":\n",
    "      \"REMIND 2.0|EU North-Center Europe\",\n",
    "    \"REMIND 2.0|European Union South Center countries\":\n",
    "      \"REMIND 2.0|EU South-Center Europe\",\n",
    "    \"REMIND 2.0|European Union South West countries\":\n",
    "      \"REMIND 2.0|EU South-West Europe\",\n",
    "    \"REMIND 2.0|European Union West North countries\":\n",
    "      \"REMIND 2.0|EU North-West Europe\",\n",
    "    \"REMIND 2.0|Non European Union North countries\":\n",
    "      \"REMIND 2.0|Non-EU Northern Europe\",\n",
    "    \"REMIND 2.0|Non European Union South countries\":\n",
    "      \"REMIND 2.0|Non-EU Southern Europe\",\n",
    "}\n",
    "df.rename(region=remind_region_rename_mapping, inplace=True)"
   ]
  },
  {
   "cell_type": "code",
   "execution_count": null,
   "id": "0ec33294",
   "metadata": {},
   "outputs": [],
   "source": [
    "# REMIND 2.1\n",
    "remind_region_rename_mapping = dict([\n",
    "    (i, i.replace(\"REMIND-MAgPIE 2.1-4.3\", \"REMIND 2.1\")) for i in df.region if \"REMIND\" in i\n",
    "])\n",
    "df.rename(region=remind_region_rename_mapping, inplace=True)\n",
    "remind_region_rename_mapping = dict([\n",
    "    (i, i.replace(\"REMIND-MAgPIE 2.1-4.2\", \"REMIND 2.1\")) for i in df.region if \"REMIND\" in i\n",
    "])\n",
    "df.rename(region=remind_region_rename_mapping, inplace=True)\n",
    "\n",
    "remind_region_rename_mapping = {\n",
    "    \"REMIND 2.1|Canada, NZ, Australia\":\n",
    "     \"REMIND 2.1|Canada, Australia, New Zealand\",\n",
    "    \"REMIND 2.1|China\":\n",
    "      \"REMIND 2.1|China and Taiwan\",\n",
    "    \"REMIND 2.1|Countries from the Reforming Ecomonies of the Former Soviet Union\":\n",
    "      \"REMIND 2.1|Russia and Reforming Economies\",\n",
    "    \"REMIND 2.1|Middle East, North Africa, Central Asia\":\n",
    "      \"REMIND 2.1|Middle East and North Africa\",\n",
    "    \"REMIND 2.1|Sub-saharan Africa\":\n",
    "     \"REMIND 2.1|Sub-Saharan Africa\",\n",
    "    \"REMIND 2.1|other Asia\":\n",
    "      \"REMIND 2.1|Other Asia\",\n",
    "}\n",
    "df.rename(region=remind_region_rename_mapping, inplace=True)"
   ]
  },
  {
   "cell_type": "code",
   "execution_count": null,
   "id": "1c76e39a",
   "metadata": {},
   "outputs": [],
   "source": [
    "df.rename(region={\"European Union (28 member countries)\": \"EU27 & UK\"}, inplace=True)"
   ]
  },
  {
   "cell_type": "code",
   "execution_count": null,
   "id": "c0d352a5",
   "metadata": {},
   "outputs": [],
   "source": [
    "df.filter(region=[\"China\", \"India\", \"Japan\", \"United States of America\", \"REMIND 2.0|World\", \"European Union (28 member countries)\"], keep=False, inplace=True)"
   ]
  },
  {
   "cell_type": "code",
   "execution_count": null,
   "id": "0bd79fef",
   "metadata": {},
   "outputs": [],
   "source": [
    "df.filter(variable=[\n",
    "    \"Expenditure Share|Food\",\n",
    "    \"Disability-Adjusted Life Year|PM2.5\",\n",
    "    \"GDP|PPP|Per capita growth rate\",\n",
    "    \"GDP|PPP|Per capita ratio to OECD\",\n",
    "    \"Premature Deaths|PM2.5\",\n",
    "], keep=False, inplace=True)"
   ]
  },
  {
   "cell_type": "code",
   "execution_count": null,
   "id": "5cdc4b84",
   "metadata": {},
   "outputs": [],
   "source": [
    "df.convert_unit(\"PJ/yr\", to=\"EJ/yr\", inplace=True)"
   ]
  },
  {
   "cell_type": "code",
   "execution_count": null,
   "id": "6a242b14",
   "metadata": {},
   "outputs": [],
   "source": [
    "df.rename(unit={\n",
    "    \"billion Int$2010/yr\": \"billion US$2010/yr\",\n",
    "    \"bn vkm/yr\": \"billion vkm/yr\",\n",
    "    \"bn pkm/yr\": \"billion pkm/yr\",\n",
    "    \"bn tkm/yr\": \"billion tkm/yr\",\n",
    "    \"bn m2/yr\": \"billion m2/yr\",\n",
    "    \"Mt/year\": \"Mt/yr\",\n",
    "}, inplace=True)"
   ]
  },
  {
   "cell_type": "code",
   "execution_count": null,
   "id": "4d7daaf6",
   "metadata": {},
   "outputs": [],
   "source": [
    "df.filter(variable=eu_climate_dsd.variable, inplace=True)"
   ]
  },
  {
   "cell_type": "code",
   "execution_count": null,
   "id": "d73e2e34",
   "metadata": {},
   "outputs": [],
   "source": [
    "eu_climate_dsd.validate(df)"
   ]
  },
  {
   "cell_type": "code",
   "execution_count": null,
   "id": "c5b40644",
   "metadata": {},
   "outputs": [],
   "source": [
    "df.rename(model={\"REMIND_EU 2.0\": \"REMIND-EU 2.0\"}, inplace=True)"
   ]
  },
  {
   "cell_type": "code",
   "execution_count": null,
   "id": "de7d906c",
   "metadata": {},
   "outputs": [],
   "source": [
    "remind_scenario_rename_mapping = dict([\n",
    "    (i, i.replace(\" HighRE\", \"HighRE\")) for i in df.scenario if \"DeepElec\" in i\n",
    "])\n",
    "df.rename(scenario=remind_scenario_rename_mapping, inplace=True)"
   ]
  },
  {
   "cell_type": "code",
   "execution_count": null,
   "id": "1481311c",
   "metadata": {},
   "outputs": [],
   "source": [
    "df.scenario"
   ]
  },
  {
   "cell_type": "code",
   "execution_count": null,
   "id": "7c9e1d0d",
   "metadata": {},
   "outputs": [],
   "source": [
    "for (_model, _scenario) in df.index:\n",
    "    _df = df.filter(model=_model, scenario=_scenario)\n",
    "    # initialize scenario and add timeseries data\n",
    "    scen = ixmp.Scenario(eu_climate, _model, _scenario, version=\"new\")\n",
    "    scen.add_timeseries(df.data)\n",
    "    scen.commit(f\"Migrated from the IPCC AR6 database\")\n",
    "    scen.set_as_default()\n",
    "\n",
    "    scen.set_meta({\"Source\": f\"{project} (via IPCC AR6)\"})\n",
    "    \n",
    "    print(f\"Model {_model} - Scenario {_scenario}\" )"
   ]
  },
  {
   "cell_type": "code",
   "execution_count": null,
   "id": "676f0067",
   "metadata": {},
   "outputs": [],
   "source": []
  }
 ],
 "metadata": {
  "kernelspec": {
   "display_name": "Python 3 (ipykernel)",
   "language": "python",
   "name": "python3"
  },
  "language_info": {
   "codemirror_mode": {
    "name": "ipython",
    "version": 3
   },
   "file_extension": ".py",
   "mimetype": "text/x-python",
   "name": "python",
   "nbconvert_exporter": "python",
   "pygments_lexer": "ipython3",
   "version": "3.8.12"
  },
  "latex_envs": {
   "LaTeX_envs_menu_present": true,
   "autoclose": false,
   "autocomplete": true,
   "bibliofile": "biblio.bib",
   "cite_by": "apalike",
   "current_citInitial": 1,
   "eqLabelWithNumbers": true,
   "eqNumInitial": 1,
   "hotkeys": {
    "equation": "Ctrl-E",
    "itemize": "Ctrl-I"
   },
   "labels_anchors": false,
   "latex_user_defs": false,
   "report_style_numbering": false,
   "user_envs_cfg": false
  }
 },
 "nbformat": 4,
 "nbformat_minor": 5
}
