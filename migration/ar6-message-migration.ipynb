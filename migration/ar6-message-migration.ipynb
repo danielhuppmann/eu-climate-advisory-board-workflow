{
 "cells": [
  {
   "cell_type": "code",
   "execution_count": null,
   "id": "c3ec7e94",
   "metadata": {},
   "outputs": [],
   "source": [
    "import ixmp\n",
    "import yaml\n",
    "import pyam\n",
    "import nomenclature"
   ]
  },
  {
   "cell_type": "code",
   "execution_count": null,
   "id": "8e961c48",
   "metadata": {},
   "outputs": [],
   "source": [
    "ar6_public = ixmp.Platform(\"ar6\")\n",
    "ar6_submission = ixmp.Platform(\"ar6-submission\")"
   ]
  },
  {
   "cell_type": "code",
   "execution_count": null,
   "id": "b05f6e29",
   "metadata": {},
   "outputs": [],
   "source": [
    "ar6_public_scenario_list = ar6_public.scenario_list()\n",
    "ar6_submission_scenario_list = ar6_submission.scenario_list()"
   ]
  },
  {
   "cell_type": "code",
   "execution_count": null,
   "id": "588e096f",
   "metadata": {},
   "outputs": [],
   "source": [
    "with open(\"region_rename.yaml\") as f:\n",
    "    region_rename_mapping = yaml.safe_load(f)"
   ]
  },
  {
   "cell_type": "code",
   "execution_count": null,
   "id": "65d20532",
   "metadata": {},
   "outputs": [],
   "source": [
    "eu_climate_dsd = nomenclature.DataStructureDefinition(\"../definitions/\")"
   ]
  },
  {
   "cell_type": "code",
   "execution_count": null,
   "id": "131c42db",
   "metadata": {},
   "outputs": [],
   "source": [
    "eu_climate = ixmp.Platform(\"eu-climate-submission\")"
   ]
  },
  {
   "cell_type": "code",
   "execution_count": null,
   "id": "e8cc1ae2",
   "metadata": {},
   "outputs": [],
   "source": [
    "project = \"LED\"\n",
    "scenario_selection = [(\"MESSAGEix-GLOBIOM 1.0\", \"LowEnergyDemand_1.3_IPCC\")]"
   ]
  },
  {
   "cell_type": "code",
   "execution_count": null,
   "id": "b07cf9cf",
   "metadata": {},
   "outputs": [],
   "source": [
    "project = \"COVID-Recovery\"\n",
    "model = \"MESSAGEix-GLOBIOM_1.2\"\n",
    "_scenarios = ar6_public_scenario_list[ar6_public_scenario_list.model == model].scenario\n",
    "\n",
    "_scenarios = [s for s in _scenarios if s.startswith(\"COV_\")]\n",
    "_scenarios"
   ]
  },
  {
   "cell_type": "code",
   "execution_count": null,
   "id": "6c50d2c4",
   "metadata": {},
   "outputs": [],
   "source": [
    "project = \"GEI\"\n",
    "model = \"MESSAGEix-GLOBIOM_GEI 1.0\"\n",
    "_scenarios = ar6_public_scenario_list[ar6_public_scenario_list.model == model].scenario\n",
    "\n",
    "_scenarios = [s for s in _scenarios if s.startswith(\"SSP2_\")]\n",
    "_scenarios"
   ]
  },
  {
   "cell_type": "code",
   "execution_count": null,
   "id": "39f01a6a",
   "metadata": {},
   "outputs": [],
   "source": [
    "scenario_selection = list()\n",
    "for s in _scenarios:\n",
    "    scenario_selection.append((model, s))"
   ]
  },
  {
   "cell_type": "code",
   "execution_count": null,
   "id": "4fad083a",
   "metadata": {},
   "outputs": [],
   "source": [
    "scenario_list = [\n",
    "    pyam.IamDataFrame(\n",
    "        ixmp.Scenario(mp=ar6_submission, model=m, scenario=s).timeseries()\n",
    "    )\n",
    "    for (m, s) in scenario_selection\n",
    "]\n",
    "df = pyam.concat(scenario_list)"
   ]
  },
  {
   "cell_type": "code",
   "execution_count": null,
   "id": "da71e188",
   "metadata": {},
   "outputs": [],
   "source": [
    "df.rename(region=region_rename_mapping, inplace=True)"
   ]
  },
  {
   "cell_type": "code",
   "execution_count": null,
   "id": "80c73f9e",
   "metadata": {},
   "outputs": [],
   "source": [
    "df.region"
   ]
  },
  {
   "cell_type": "code",
   "execution_count": null,
   "id": "04083791",
   "metadata": {},
   "outputs": [],
   "source": [
    "df.rename(model={\"MESSAGEix-GLOBIOM_1.2\": \"MESSAGEix-GLOBIOM 1.2\"}, inplace=True)"
   ]
  },
  {
   "cell_type": "code",
   "execution_count": null,
   "id": "fb00682a",
   "metadata": {},
   "outputs": [],
   "source": [
    "df.rename(model={\"MESSAGEix-GLOBIOM_GEI 1.0\": \"MESSAGEix-GLOBIOM 1.0\"}, inplace=True)"
   ]
  },
  {
   "cell_type": "code",
   "execution_count": null,
   "id": "33dea23b",
   "metadata": {},
   "outputs": [],
   "source": [
    "gei_scenario_rename_mapping = dict([\n",
    "    (i, i.replace(\"SSP2_\", \"GEI_SSP2_\")) for i in df.scenario\n",
    "])\n",
    "df.rename(scenario=gei_scenario_rename_mapping, inplace=True)"
   ]
  },
  {
   "cell_type": "code",
   "execution_count": null,
   "id": "58ca63bf",
   "metadata": {},
   "outputs": [],
   "source": [
    "message_region_rename_mapping = dict([\n",
    "    (i, i.replace(\"MESSAGEix-GLOBIOM_GEI 1.0\", \"MESSAGEix-GLOBIOM 1.0\")) for i in df.region\n",
    "])\n",
    "df.rename(region=message_region_rename_mapping, inplace=True)\n",
    "\n",
    "df.rename(region={\"MESSAGEix-GLOBIOM 1.0|Sub-saharan Africa\": \"MESSAGEix-GLOBIOM 1.0|Sub-Saharan Africa\"}, inplace=True)"
   ]
  },
  {
   "cell_type": "code",
   "execution_count": null,
   "id": "6b7a75fb",
   "metadata": {},
   "outputs": [],
   "source": [
    "message_region_rename_mapping = dict([\n",
    "    (i, i.replace(\"MESSAGEix-GLOBIOM_1.2\", \"MESSAGEix-GLOBIOM 1.2\")) for i in df.region\n",
    "])\n",
    "df.rename(region=message_region_rename_mapping, inplace=True)\n",
    "\n",
    "df.rename(region={\"MESSAGEix-GLOBIOM 1.2|Sub-saharan Africa\": \"MESSAGEix-GLOBIOM 1.2|Sub-Saharan Africa\"}, inplace=True)"
   ]
  },
  {
   "cell_type": "code",
   "execution_count": null,
   "id": "0bd79fef",
   "metadata": {},
   "outputs": [],
   "source": [
    "df.filter(variable=[\n",
    "    \"Expenditure Share|Food\",\n",
    "    \"Disability-Adjusted Life Year|PM2.5\",\n",
    "    \"GDP|PPP|Per capita growth rate\",\n",
    "    \"GDP|PPP|Per capita ratio to OECD\",\n",
    "    \"Premature Deaths|PM2.5\",\n",
    "], keep=False, inplace=True)"
   ]
  },
  {
   "cell_type": "code",
   "execution_count": null,
   "id": "6a242b14",
   "metadata": {},
   "outputs": [],
   "source": [
    "df.rename(unit={\n",
    "    \"billion Int$2010/yr\": \"billion US$2010/yr\",\n",
    "    \"bn vkm/yr\": \"billion vkm/yr\",\n",
    "    \"bn pkm/yr\": \"billion pkm/yr\",\n",
    "    \"bn tkm/yr\": \"billion tkm/yr\",\n",
    "    \"bn m2/yr\": \"billion m2/yr\",\n",
    "    \"Mt/year\": \"Mt/yr\",\n",
    "}, inplace=True)"
   ]
  },
  {
   "cell_type": "code",
   "execution_count": null,
   "id": "56b5b12f",
   "metadata": {},
   "outputs": [],
   "source": [
    "df.filter(region=[\"China\", \"India\", \"United States of America\"], keep=False, inplace=True)"
   ]
  },
  {
   "cell_type": "code",
   "execution_count": null,
   "id": "4d7daaf6",
   "metadata": {},
   "outputs": [],
   "source": [
    "df.filter(variable=eu_climate_dsd.variable, inplace=True)"
   ]
  },
  {
   "cell_type": "code",
   "execution_count": null,
   "id": "d73e2e34",
   "metadata": {},
   "outputs": [],
   "source": [
    "eu_climate_dsd.validate(df)"
   ]
  },
  {
   "cell_type": "code",
   "execution_count": null,
   "id": "1481311c",
   "metadata": {},
   "outputs": [],
   "source": [
    "project"
   ]
  },
  {
   "cell_type": "code",
   "execution_count": null,
   "id": "7c9e1d0d",
   "metadata": {},
   "outputs": [],
   "source": [
    "for (_model, _scenario) in df.index:\n",
    "    _df = df.filter(model=_model, scenario=_scenario)\n",
    "    # initialize scenario and add timeseries data\n",
    "    scen = ixmp.Scenario(eu_climate, _model, _scenario, version=\"new\")\n",
    "    scen.add_timeseries(df.data)\n",
    "    scen.commit(f\"Migrated from the IPCC AR6 database\")\n",
    "    scen.set_as_default()\n",
    "\n",
    "    scen.set_meta({\"Source\": f\"{project} (via IPCC AR6)\"})\n",
    "    \n",
    "    print(f\"Model {_model} - Scenario {_scenario}\" )"
   ]
  },
  {
   "cell_type": "code",
   "execution_count": null,
   "id": "676f0067",
   "metadata": {},
   "outputs": [],
   "source": []
  }
 ],
 "metadata": {
  "kernelspec": {
   "display_name": "Python 3 (ipykernel)",
   "language": "python",
   "name": "python3"
  },
  "language_info": {
   "codemirror_mode": {
    "name": "ipython",
    "version": 3
   },
   "file_extension": ".py",
   "mimetype": "text/x-python",
   "name": "python",
   "nbconvert_exporter": "python",
   "pygments_lexer": "ipython3",
   "version": "3.8.12"
  },
  "latex_envs": {
   "LaTeX_envs_menu_present": true,
   "autoclose": false,
   "autocomplete": true,
   "bibliofile": "biblio.bib",
   "cite_by": "apalike",
   "current_citInitial": 1,
   "eqLabelWithNumbers": true,
   "eqNumInitial": 1,
   "hotkeys": {
    "equation": "Ctrl-E",
    "itemize": "Ctrl-I"
   },
   "labels_anchors": false,
   "latex_user_defs": false,
   "report_style_numbering": false,
   "user_envs_cfg": false
  }
 },
 "nbformat": 4,
 "nbformat_minor": 5
}
