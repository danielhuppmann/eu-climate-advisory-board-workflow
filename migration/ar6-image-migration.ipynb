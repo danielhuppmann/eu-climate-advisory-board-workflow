{
 "cells": [
  {
   "cell_type": "code",
   "execution_count": null,
   "id": "c3ec7e94",
   "metadata": {},
   "outputs": [],
   "source": [
    "import ixmp\n",
    "import yaml\n",
    "import pyam\n",
    "import nomenclature"
   ]
  },
  {
   "cell_type": "code",
   "execution_count": null,
   "id": "8e961c48",
   "metadata": {},
   "outputs": [],
   "source": [
    "ar6_public = ixmp.Platform(\"ar6\")\n",
    "ar6_submission = ixmp.Platform(\"ar6-submission\")"
   ]
  },
  {
   "cell_type": "code",
   "execution_count": null,
   "id": "b05f6e29",
   "metadata": {},
   "outputs": [],
   "source": [
    "ar6_public_scenario_list = ar6_public.scenario_list()\n",
    "ar6_submission_scenario_list = ar6_submission.scenario_list()"
   ]
  },
  {
   "cell_type": "code",
   "execution_count": null,
   "id": "588e096f",
   "metadata": {},
   "outputs": [],
   "source": [
    "with open(\"region_rename.yaml\") as f:\n",
    "    region_rename_mapping = yaml.safe_load(f)"
   ]
  },
  {
   "cell_type": "code",
   "execution_count": null,
   "id": "65d20532",
   "metadata": {},
   "outputs": [],
   "source": [
    "eu_climate_dsd = nomenclature.DataStructureDefinition(\"../definitions/\")"
   ]
  },
  {
   "cell_type": "code",
   "execution_count": null,
   "id": "131c42db",
   "metadata": {},
   "outputs": [],
   "source": [
    "eu_climate = ixmp.Platform(\"eu-climate-submission\")"
   ]
  },
  {
   "cell_type": "code",
   "execution_count": null,
   "id": "b07cf9cf",
   "metadata": {},
   "outputs": [],
   "source": [
    "project = \"2021-SSP\"\n",
    "model = \"IMAGE 3.2\"\n",
    "_scenarios = ar6_public_scenario_list[ar6_public_scenario_list.model == model].scenario\n",
    "\n",
    "_scenarios = [s for s in _scenarios if \"SPA\" in s]\n",
    "_scenarios"
   ]
  },
  {
   "cell_type": "code",
   "execution_count": null,
   "id": "ada46ee9",
   "metadata": {},
   "outputs": [],
   "source": [
    "_scenarios = [\n",
    " 'SSP2_SPA0_26I_D',\n",
    " 'SSP2_SPA1_19I_D_LB',\n",
    " 'SSP2_SPA1_19I_LIRE_LB',\n",
    " 'SSP2_SPA1_19I_RE_LB',\n",
    " 'SSP2_SPA2_19I_D',\n",
    " 'SSP2_SPA2_19I_LI',\n",
    " 'SSP2_SPA2_19I_LIRE',\n",
    " 'SSP2_SPA2_19I_RE',\n",
    " 'SSP2_SPA2_26I_D',\n",
    " 'SSP2_SPA2_26I_LI',\n",
    " 'SSP2_SPA2_26I_LIRE',\n",
    " 'SSP2_SPA2_26I_RE',\n",
    " 'SSP2_SPA2_34I_D',\n",
    " 'SSP2_SPA2_34I_LI',\n",
    " 'SSP2_SPA2_34I_LIRE',\n",
    " 'SSP2_SPA2_34I_RE',\n",
    " 'SSP2_SPA2_45I_D',\n",
    " 'SSP2_SPA2_45I_LI',\n",
    " 'SSP2_SPA2_45I_LIRE',\n",
    " 'SSP2_SPA2_45I_RE']"
   ]
  },
  {
   "cell_type": "code",
   "execution_count": null,
   "id": "39f01a6a",
   "metadata": {},
   "outputs": [],
   "source": [
    "scenario_selection = list()\n",
    "for s in _scenarios:\n",
    "    scenario_selection.append((model, s))"
   ]
  },
  {
   "cell_type": "code",
   "execution_count": null,
   "id": "4fad083a",
   "metadata": {},
   "outputs": [],
   "source": [
    "scenario_list = [\n",
    "    pyam.IamDataFrame(\n",
    "        ixmp.Scenario(mp=ar6_submission, model=m, scenario=s).timeseries()\n",
    "    )\n",
    "    for (m, s) in scenario_selection\n",
    "]\n",
    "df = pyam.concat(scenario_list)"
   ]
  },
  {
   "cell_type": "code",
   "execution_count": null,
   "id": "da71e188",
   "metadata": {},
   "outputs": [],
   "source": [
    "df.rename(region=region_rename_mapping, inplace=True)"
   ]
  },
  {
   "cell_type": "code",
   "execution_count": null,
   "id": "32afb054",
   "metadata": {},
   "outputs": [],
   "source": [
    "image_region_rename_mapping = {\n",
    "    \"IMAGE 3.2|C. Europe\": \"IMAGE 3.2|Central Europe\",\n",
    "    \"IMAGE 3.2|E. Africa\": \"IMAGE 3.2|Eastern Africa\",\n",
    "    \"IMAGE 3.2|N. Africa\": \"IMAGE 3.2|Northern Africa\",\n",
    "    \"IMAGE 3.2|Rest C. America\": \"IMAGE 3.2|Other Central America\",\n",
    "    \"IMAGE 3.2|Rest S. Africa\": \"IMAGE 3.2|Other Southern Africa\",\n",
    "    \"IMAGE 3.2|Rest S. America\": \"IMAGE 3.2|Other Southern America\",\n",
    "    \"IMAGE 3.2|Rest S. Asia\": \"IMAGE 3.2|Other Southern Asia\",\n",
    "    \"IMAGE 3.2|SE. Asia\": \"IMAGE 3.2|South-East Asia\",\n",
    "    \"IMAGE 3.2|W. Africa\": \"IMAGE 3.2|Western Africa\",\n",
    "    \"IMAGE 3.2|W. Europe\": \"IMAGE 3.2|Western Europe\",\n",
    "}\n",
    "df.rename(region=image_region_rename_mapping, inplace=True)"
   ]
  },
  {
   "cell_type": "code",
   "execution_count": null,
   "id": "80c73f9e",
   "metadata": {},
   "outputs": [],
   "source": [
    "df.region"
   ]
  },
  {
   "cell_type": "code",
   "execution_count": null,
   "id": "0bd79fef",
   "metadata": {},
   "outputs": [],
   "source": [
    "df.filter(variable=[\n",
    "    \"Expenditure Share|Food\",\n",
    "    \"Disability-Adjusted Life Year|PM2.5\",\n",
    "    \"GDP|PPP|Per capita growth rate\",\n",
    "    \"GDP|PPP|Per capita ratio to OECD\",\n",
    "    \"Premature Deaths|PM2.5\",\n",
    "], keep=False, inplace=True)"
   ]
  },
  {
   "cell_type": "code",
   "execution_count": null,
   "id": "6a242b14",
   "metadata": {},
   "outputs": [],
   "source": [
    "df.rename(unit={\n",
    "    \"bn vkm/yr\": \"billion vkm/yr\",\n",
    "    \"bn pkm/yr\": \"billion pkm/yr\",\n",
    "    \"bn tkm/yr\": \"billion tkm/yr\",\n",
    "    \"bn m2/yr\": \"billion m2/yr\",\n",
    "    \"Mt/year\": \"Mt/yr\",\n",
    "}, inplace=True)"
   ]
  },
  {
   "cell_type": "code",
   "execution_count": null,
   "id": "56b5b12f",
   "metadata": {},
   "outputs": [],
   "source": [
    "df.filter(region=[\n",
    "    \"Brazil\", \"Canada\", \"China\", \"India\", \n",
    "    \"European Union (28 member countries)\", \"IMAGE 3.2|World\",\n",
    "    \"Indonesia\", \"Japan\", \"Mexico\", \"South Africa\", \n",
    "    \"United States of America\"], keep=False, inplace=True)"
   ]
  },
  {
   "cell_type": "code",
   "execution_count": null,
   "id": "4d7daaf6",
   "metadata": {},
   "outputs": [],
   "source": [
    "df.filter(variable=eu_climate_dsd.variable, inplace=True)"
   ]
  },
  {
   "cell_type": "code",
   "execution_count": null,
   "id": "a9955b56",
   "metadata": {},
   "outputs": [],
   "source": [
    "list()"
   ]
  },
  {
   "cell_type": "code",
   "execution_count": null,
   "id": "d73e2e34",
   "metadata": {},
   "outputs": [],
   "source": [
    "eu_climate_dsd.validate(df)"
   ]
  },
  {
   "cell_type": "code",
   "execution_count": null,
   "id": "1481311c",
   "metadata": {},
   "outputs": [],
   "source": [
    "project"
   ]
  },
  {
   "cell_type": "code",
   "execution_count": null,
   "id": "7c9e1d0d",
   "metadata": {},
   "outputs": [],
   "source": [
    "for (_model, _scenario) in df.index:\n",
    "    _df = df.filter(model=_model, scenario=_scenario)\n",
    "    # initialize scenario and add timeseries data\n",
    "    scen = ixmp.Scenario(eu_climate, _model, _scenario, version=\"new\")\n",
    "    scen.add_timeseries(df.data)\n",
    "    scen.commit(f\"Migrated from the IPCC AR6 database\")\n",
    "    scen.set_as_default()\n",
    "\n",
    "    scen.set_meta({\"Source\": f\"{project} (via IPCC AR6)\"})\n",
    "    \n",
    "    print(f\"Model {_model} - Scenario {_scenario}\" )"
   ]
  },
  {
   "cell_type": "code",
   "execution_count": null,
   "id": "676f0067",
   "metadata": {},
   "outputs": [],
   "source": []
  }
 ],
 "metadata": {
  "kernelspec": {
   "display_name": "Python 3 (ipykernel)",
   "language": "python",
   "name": "python3"
  },
  "language_info": {
   "codemirror_mode": {
    "name": "ipython",
    "version": 3
   },
   "file_extension": ".py",
   "mimetype": "text/x-python",
   "name": "python",
   "nbconvert_exporter": "python",
   "pygments_lexer": "ipython3",
   "version": "3.8.12"
  },
  "latex_envs": {
   "LaTeX_envs_menu_present": true,
   "autoclose": false,
   "autocomplete": true,
   "bibliofile": "biblio.bib",
   "cite_by": "apalike",
   "current_citInitial": 1,
   "eqLabelWithNumbers": true,
   "eqNumInitial": 1,
   "hotkeys": {
    "equation": "Ctrl-E",
    "itemize": "Ctrl-I"
   },
   "labels_anchors": false,
   "latex_user_defs": false,
   "report_style_numbering": false,
   "user_envs_cfg": false
  }
 },
 "nbformat": 4,
 "nbformat_minor": 5
}
