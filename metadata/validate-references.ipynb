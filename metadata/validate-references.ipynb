{
 "cells": [
  {
   "cell_type": "code",
   "execution_count": null,
   "id": "e86d3e1e",
   "metadata": {},
   "outputs": [],
   "source": [
    "import numpy as np\n",
    "import pandas as pd\n",
    "from pathlib import Path\n",
    "import yaml\n",
    "\n",
    "import ixmp\n",
    "import pyam"
   ]
  },
  {
   "cell_type": "code",
   "execution_count": null,
   "id": "f8a3449e",
   "metadata": {},
   "outputs": [],
   "source": [
    "eu_climate = ixmp.Platform(\"eu-climate-submission\")"
   ]
  },
  {
   "cell_type": "code",
   "execution_count": null,
   "id": "1f371a70",
   "metadata": {},
   "outputs": [],
   "source": [
    "scenarios = eu_climate.scenario_list()"
   ]
  },
  {
   "cell_type": "code",
   "execution_count": null,
   "id": "47673732",
   "metadata": {},
   "outputs": [],
   "source": [
    "list()"
   ]
  },
  {
   "cell_type": "code",
   "execution_count": null,
   "id": "cef4541f",
   "metadata": {},
   "outputs": [],
   "source": [
    "scenarios[[m.startswith(\"TIMES-Ireland\") for m in scenarios.model]]"
   ]
  },
  {
   "cell_type": "code",
   "execution_count": null,
   "id": "6c819a79",
   "metadata": {},
   "outputs": [],
   "source": [
    "meta = (\n",
    "    pd.DataFrame(scenarios[[\"model\", \"scenario\", \"annotation\"]])\n",
    "    .set_index([\"model\", \"scenario\"])\n",
    ")"
   ]
  },
  {
   "cell_type": "code",
   "execution_count": null,
   "id": "57e0b6a4",
   "metadata": {},
   "outputs": [],
   "source": [
    "attributes = [\"source\", \"reference\", \"doi\"]"
   ]
  },
  {
   "cell_type": "code",
   "execution_count": null,
   "id": "182c22b1",
   "metadata": {},
   "outputs": [],
   "source": [
    "for a in attributes:\n",
    "    meta[a] = None"
   ]
  },
  {
   "cell_type": "code",
   "execution_count": null,
   "id": "3d46156a",
   "metadata": {},
   "outputs": [],
   "source": [
    "# translate to CodeList-like dictionary \n",
    "\n",
    "with open(\"scenario_metadata.yaml\") as f:\n",
    "    _scenario_metadata = yaml.safe_load(f)\n",
    "\n",
    "scenario_metadata = dict()\n",
    "for model_element in _scenario_metadata:\n",
    "    for model, scenario_list in model_element.items():\n",
    "        _scenario_dict = dict()\n",
    "        for scenario in scenario_list:\n",
    "            for name, attrs in scenario.items():\n",
    "                _scenario_dict[name] = attrs\n",
    "        scenario_metadata[model] = _scenario_dict"
   ]
  },
  {
   "cell_type": "code",
   "execution_count": null,
   "id": "09053634",
   "metadata": {},
   "outputs": [],
   "source": [
    "# assign metadata-attributes to meta table\n",
    "\n",
    "for model, _df in scenarios.groupby(\"model\"):\n",
    "    for scenario_group in scenario_metadata[model]:\n",
    "        for s in _df.scenario[pyam.pattern_match(_df.scenario, scenario_group)]:\n",
    "            for a in attributes:\n",
    "                meta.loc[(model, s), a] = scenario_metadata[model][scenario_group][a]"
   ]
  },
  {
   "cell_type": "code",
   "execution_count": null,
   "id": "73f1962f",
   "metadata": {},
   "outputs": [],
   "source": [
    "meta[pd.isna(meta.source)]"
   ]
  },
  {
   "cell_type": "code",
   "execution_count": null,
   "id": "fab13f21",
   "metadata": {},
   "outputs": [],
   "source": [
    "scenario_metadata[model].keys()"
   ]
  },
  {
   "cell_type": "code",
   "execution_count": null,
   "id": "673dea38",
   "metadata": {},
   "outputs": [],
   "source": [
    "scenario_metadata[model]"
   ]
  },
  {
   "cell_type": "code",
   "execution_count": null,
   "id": "68de1c0d",
   "metadata": {},
   "outputs": [],
   "source": [
    "list()"
   ]
  },
  {
   "cell_type": "code",
   "execution_count": null,
   "id": "eb072890",
   "metadata": {},
   "outputs": [],
   "source": [
    "scenario_metadata"
   ]
  },
  {
   "cell_type": "code",
   "execution_count": null,
   "id": "41c9df40",
   "metadata": {},
   "outputs": [],
   "source": []
  }
 ],
 "metadata": {
  "kernelspec": {
   "display_name": "Python 3 (ipykernel)",
   "language": "python",
   "name": "python3"
  },
  "language_info": {
   "codemirror_mode": {
    "name": "ipython",
    "version": 3
   },
   "file_extension": ".py",
   "mimetype": "text/x-python",
   "name": "python",
   "nbconvert_exporter": "python",
   "pygments_lexer": "ipython3",
   "version": "3.8.12"
  },
  "latex_envs": {
   "LaTeX_envs_menu_present": true,
   "autoclose": false,
   "autocomplete": true,
   "bibliofile": "biblio.bib",
   "cite_by": "apalike",
   "current_citInitial": 1,
   "eqLabelWithNumbers": true,
   "eqNumInitial": 1,
   "hotkeys": {
    "equation": "Ctrl-E",
    "itemize": "Ctrl-I"
   },
   "labels_anchors": false,
   "latex_user_defs": false,
   "report_style_numbering": false,
   "user_envs_cfg": false
  }
 },
 "nbformat": 4,
 "nbformat_minor": 5
}
