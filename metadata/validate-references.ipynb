{
 "cells": [
  {
   "cell_type": "code",
   "execution_count": null,
   "id": "e86d3e1e",
   "metadata": {},
   "outputs": [],
   "source": [
    "import numpy as np\n",
    "import pandas as pd\n",
    "from pathlib import Path\n",
    "import yaml\n",
    "\n",
    "import ixmp\n",
    "import nomenclature\n",
    "import pyam"
   ]
  },
  {
   "cell_type": "code",
   "execution_count": null,
   "id": "f8a3449e",
   "metadata": {},
   "outputs": [],
   "source": [
    "eu_climate = ixmp.Platform(\"eu-climate-submission\")"
   ]
  },
  {
   "cell_type": "code",
   "execution_count": null,
   "id": "d60ced01",
   "metadata": {},
   "outputs": [],
   "source": [
    "eu_dsd = nomenclature.DataStructureDefinition(\"../definitions/\")"
   ]
  },
  {
   "cell_type": "code",
   "execution_count": null,
   "id": "4dff9a59",
   "metadata": {},
   "outputs": [],
   "source": [
    "countries = []\n",
    "\n",
    "for country in eu_dsd.region:\n",
    "    if eu_dsd.region[country].hierarchy == \"country\":\n",
    "        if eu_dsd.region[country].eu_member:\n",
    "            countries.append(country)"
   ]
  },
  {
   "cell_type": "code",
   "execution_count": null,
   "id": "1f371a70",
   "metadata": {},
   "outputs": [],
   "source": [
    "scenarios = eu_climate.scenario_list()"
   ]
  },
  {
   "cell_type": "code",
   "execution_count": null,
   "id": "47673732",
   "metadata": {},
   "outputs": [],
   "source": [
    "list()"
   ]
  },
  {
   "cell_type": "code",
   "execution_count": null,
   "id": "6c819a79",
   "metadata": {},
   "outputs": [],
   "source": [
    "meta = (\n",
    "    pd.DataFrame(scenarios[[\"model\", \"scenario\", \"annotation\"]])\n",
    "    .set_index([\"model\", \"scenario\"])\n",
    ")"
   ]
  },
  {
   "cell_type": "code",
   "execution_count": null,
   "id": "57e0b6a4",
   "metadata": {},
   "outputs": [],
   "source": [
    "attributes = [\"source\", \"reference\", \"doi\",\n",
    "              \"coverage: global\", \"coverage: R5\", \"coverage: R10\",\n",
    "              \"coverage: EU27 & UK\", \"coverage: EU27\", \"coverage: country\"]"
   ]
  },
  {
   "cell_type": "code",
   "execution_count": null,
   "id": "182c22b1",
   "metadata": {},
   "outputs": [],
   "source": [
    "for a in attributes:\n",
    "    meta[a] = None"
   ]
  },
  {
   "cell_type": "code",
   "execution_count": null,
   "id": "3d46156a",
   "metadata": {},
   "outputs": [],
   "source": [
    "# translate to CodeList-like dictionary \n",
    "\n",
    "with open(\"scenario_metadata.yaml\") as f:\n",
    "    _scenario_metadata = yaml.safe_load(f)\n",
    "\n",
    "scenario_metadata = dict()\n",
    "for model_element in _scenario_metadata:\n",
    "    for model, scenario_list in model_element.items():\n",
    "        _scenario_dict = dict()\n",
    "        for scenario in scenario_list:\n",
    "            for name, attrs in scenario.items():\n",
    "                _scenario_dict[name] = attrs\n",
    "        scenario_metadata[model] = _scenario_dict"
   ]
  },
  {
   "cell_type": "code",
   "execution_count": null,
   "id": "09053634",
   "metadata": {},
   "outputs": [],
   "source": [
    "# assign metadata-attributes to meta table\n",
    "for model, _df in scenarios.groupby(\"model\"):\n",
    "    for scenario_group in scenario_metadata[model]:\n",
    "\n",
    "        model_scenarios = _df.scenario[pyam.pattern_match(_df.scenario, scenario_group)]\n",
    "        if model_scenarios.empty:\n",
    "            raise ValueError(model + \"|\" + scenario_group)\n",
    "        for s in _df.scenario[pyam.pattern_match(_df.scenario, scenario_group)]:\n",
    "            run = ixmp.Scenario(eu_climate, model=model, scenario=s)\n",
    "\n",
    "            for a in attributes:\n",
    "                if a in scenario_metadata[model][scenario_group]:\n",
    "                    value = scenario_metadata[model][scenario_group][a]\n",
    "                    if value is not None:\n",
    "                        meta.loc[(model, s), a] = value\n",
    "                        run.set_meta(a, value)"
   ]
  },
  {
   "cell_type": "code",
   "execution_count": null,
   "id": "1641a574",
   "metadata": {},
   "outputs": [],
   "source": [
    "for model, _df in scenarios.groupby(\"model\"):\n",
    "    for scenario in list(_df.scenario):\n",
    "        run = ixmp.Scenario(eu_climate, model=model, scenario=scenario)\n",
    "        df = run.timeseries()\n",
    "        regions = list(df.region.unique())\n",
    "        if \"World\" in regions:\n",
    "            meta.loc[(model, scenario), \"coverage: global\"] = True\n",
    "            run.set_meta(\"coverage: global\", True)\n",
    "        if \"OECD & EU (R5)\" in regions:\n",
    "            meta.loc[(model, scenario), \"coverage: R5\"] = True\n",
    "            run.set_meta(\"coverage: R5\", True)\n",
    "        if \"Europe (R10)\" in regions:\n",
    "            meta.loc[(model, scenario), \"coverage: R10\"] = True\n",
    "            run.set_meta(\"coverage: R10\", True)\n",
    "        if \"EU27 & UK\" in regions:\n",
    "            meta.loc[(model, scenario), \"coverage: EU27 & UK\"] = True\n",
    "            run.set_meta(\"coverage: EU27 & UK\", True)\n",
    "        if \"EU27\" in regions:\n",
    "            meta.loc[(model, scenario), \"coverage: EU27\"] = True\n",
    "            run.set_meta(\"coverage: EU27\", True)\n",
    "        if set(regions).issubset(countries):\n",
    "            meta.loc[(model, scenario), \"coverage: country\"] = True\n",
    "            run.set_meta(\"coverage: country\", True)\n",
    "\n",
    "        print(f\"{model} - {scenario}\")"
   ]
  },
  {
   "cell_type": "code",
   "execution_count": null,
   "id": "5e6bb7da",
   "metadata": {},
   "outputs": [],
   "source": [
    "meta.to_excel(\"eu_cab_meta_refs.xlsx\")"
   ]
  },
  {
   "cell_type": "code",
   "execution_count": null,
   "id": "559ef6bd",
   "metadata": {},
   "outputs": [],
   "source": []
  },
  {
   "cell_type": "code",
   "execution_count": null,
   "id": "60dc2998",
   "metadata": {},
   "outputs": [],
   "source": []
  },
  {
   "cell_type": "code",
   "execution_count": null,
   "id": "3db632db",
   "metadata": {},
   "outputs": [],
   "source": []
  },
  {
   "cell_type": "code",
   "execution_count": null,
   "id": "a10c7a87",
   "metadata": {},
   "outputs": [],
   "source": [
    "meta.loc[\"REMIND-MAgPIE 2.1-4.2\"]"
   ]
  },
  {
   "cell_type": "code",
   "execution_count": null,
   "id": "70af7908",
   "metadata": {},
   "outputs": [],
   "source": [
    "meta = pd.read_excel(\"eu_cab_meta_refs.xlsx\").set_index([\"model\", \"scenario\"])"
   ]
  },
  {
   "cell_type": "code",
   "execution_count": null,
   "id": "92b099db",
   "metadata": {},
   "outputs": [],
   "source": [
    "meta.columns"
   ]
  },
  {
   "cell_type": "code",
   "execution_count": null,
   "id": "d79388f0",
   "metadata": {},
   "outputs": [],
   "source": [
    "columns = ['source', 'reference', 'doi']\n",
    "coverage_columns = ['coverage: global', 'coverage: R5', 'coverage: R10', 'coverage: EU27 & UK', 'coverage: EU27', 'coverage: country']"
   ]
  },
  {
   "cell_type": "code",
   "execution_count": null,
   "id": "b6f400fd",
   "metadata": {},
   "outputs": [],
   "source": [
    "list()"
   ]
  },
  {
   "cell_type": "code",
   "execution_count": null,
   "id": "ab490d90",
   "metadata": {},
   "outputs": [],
   "source": [
    "for (_model, scenario), df in meta.iterrows():\n",
    "    print(model, scenario, df[\"doi\"])"
   ]
  },
  {
   "cell_type": "code",
   "execution_count": null,
   "id": "15512417",
   "metadata": {},
   "outputs": [],
   "source": [
    "model = None\n",
    "\n",
    "for (_model, scenario), df in meta.iterrows():\n",
    "    if not pd.isna(_model):\n",
    "        model = _model\n",
    "\n",
    "    run = ixmp.Scenario(eu_climate, model=model, scenario=scenario)\n",
    "    for c in columns:\n",
    "        if not pd.isna(df[c]):\n",
    "            run.set_meta(c, df[c])\n",
    "    for c in coverage_columns:\n",
    "        if df[c]:\n",
    "            run.set_meta(c, True)\n",
    "    print(model, scenario)"
   ]
  },
  {
   "cell_type": "code",
   "execution_count": null,
   "id": "2a35b826",
   "metadata": {},
   "outputs": [],
   "source": [
    "pd.isna(df[\"doi\"])"
   ]
  },
  {
   "cell_type": "code",
   "execution_count": null,
   "id": "73f1962f",
   "metadata": {},
   "outputs": [],
   "source": [
    "meta[pd.isna(meta.source)]"
   ]
  },
  {
   "cell_type": "code",
   "execution_count": null,
   "id": "fab13f21",
   "metadata": {},
   "outputs": [],
   "source": [
    "scenario_metadata[model].keys()"
   ]
  },
  {
   "cell_type": "code",
   "execution_count": null,
   "id": "673dea38",
   "metadata": {},
   "outputs": [],
   "source": [
    "scenario_metadata[model]"
   ]
  },
  {
   "cell_type": "code",
   "execution_count": null,
   "id": "68de1c0d",
   "metadata": {},
   "outputs": [],
   "source": [
    "list()"
   ]
  },
  {
   "cell_type": "code",
   "execution_count": null,
   "id": "eb072890",
   "metadata": {},
   "outputs": [],
   "source": [
    "scenario_metadata"
   ]
  },
  {
   "cell_type": "code",
   "execution_count": null,
   "id": "41c9df40",
   "metadata": {},
   "outputs": [],
   "source": []
  }
 ],
 "metadata": {
  "kernelspec": {
   "display_name": "Python 3 (ipykernel)",
   "language": "python",
   "name": "python3"
  },
  "language_info": {
   "codemirror_mode": {
    "name": "ipython",
    "version": 3
   },
   "file_extension": ".py",
   "mimetype": "text/x-python",
   "name": "python",
   "nbconvert_exporter": "python",
   "pygments_lexer": "ipython3",
   "version": "3.8.12"
  },
  "latex_envs": {
   "LaTeX_envs_menu_present": true,
   "autoclose": false,
   "autocomplete": true,
   "bibliofile": "biblio.bib",
   "cite_by": "apalike",
   "current_citInitial": 1,
   "eqLabelWithNumbers": true,
   "eqNumInitial": 1,
   "hotkeys": {
    "equation": "Ctrl-E",
    "itemize": "Ctrl-I"
   },
   "labels_anchors": false,
   "latex_user_defs": false,
   "report_style_numbering": false,
   "user_envs_cfg": false
  }
 },
 "nbformat": 4,
 "nbformat_minor": 5
}
